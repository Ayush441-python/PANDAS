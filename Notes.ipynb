{
 "cells": [
  {
   "cell_type": "markdown",
   "id": "6de88156",
   "metadata": {},
   "source": [
    "# PANDAS"
   ]
  },
  {
   "cell_type": "markdown",
   "id": "1a3248e8",
   "metadata": {},
   "source": [
    "- It is built on top of Numpy and is design for data manipulation and analysis offering labeled and tabular data structure\n",
    "-  DataFrames are essentially multidimensional arrays with attached row(index) and column labels, and often with heterogeneous types and/or missing data"
   ]
  },
  {
   "cell_type": "code",
   "execution_count": 43,
   "id": "0a888dd7",
   "metadata": {},
   "outputs": [],
   "source": [
    "import numpy as np \n",
    "import pandas as pd"
   ]
  },
  {
   "cell_type": "markdown",
   "id": "c4528d11",
   "metadata": {},
   "source": [
    "## Pandas Object"
   ]
  },
  {
   "cell_type": "markdown",
   "id": "d7ce091f",
   "metadata": {},
   "source": [
    "- At the very basic level, Pandas objects can be thought of as enhanced versions of\n",
    "NumPy structured arrays in which the rows and columns are identified with labels\n",
    "rather than simple integer indices."
   ]
  },
  {
   "cell_type": "markdown",
   "id": "b2dd7616",
   "metadata": {},
   "source": [
    "### Pandas Series Object\n",
    "\n",
    "- 1D array of indexed object"
   ]
  },
  {
   "cell_type": "code",
   "execution_count": 44,
   "id": "8481b440",
   "metadata": {},
   "outputs": [
    {
     "name": "stdout",
     "output_type": "stream",
     "text": [
      "0    4332\n",
      "1    2245\n",
      "2     634\n",
      "3    4535\n",
      "4    2352\n",
      "dtype: int64\n",
      "[4332 2245  634 4535 2352]\n",
      "RangeIndex(start=0, stop=5, step=1)\n",
      "2245\n",
      "1    2245\n",
      "2     634\n",
      "dtype: int64\n",
      "\n",
      "\n",
      "100    5\n",
      "200    5\n",
      "300    5\n",
      "dtype: int64\n",
      "\n",
      "\n",
      "a    0.25\n",
      "b    0.50\n",
      "c    0.75\n",
      "d    1.00\n",
      "dtype: float64\n",
      "0.5\n",
      "\n",
      "\n",
      "California    38332521\n",
      "Texas         26448193\n",
      "New York      19651127\n",
      "Florida       19552860\n",
      "Illinois      12882135\n",
      "dtype: int64\n",
      "38332521\n",
      "California    38332521\n",
      "Texas         26448193\n",
      "New York      19651127\n",
      "Florida       19552860\n",
      "dtype: int64\n"
     ]
    }
   ],
   "source": [
    "data = pd.Series([4332,2245,634,4535,2352])\n",
    "print(data)\n",
    "print(data.values)\n",
    "print(data.index)\n",
    "print(data[1])\n",
    "print(data[1:3])\n",
    "\n",
    "print(\"\\n\")\n",
    "\n",
    "data = pd.Series(5, index=[100, 200, 300])\n",
    "print(data)\n",
    "\n",
    "print(\"\\n\")\n",
    "\n",
    "#  Series as generalized NumPy array\n",
    "data = pd.Series([0.25, 0.5, 0.75, 1.0],\n",
    "                    index=['a', 'b', 'c', 'd'])         # even use noncontiguous or nonsequential indices\n",
    "print(data)\n",
    "print(data['b'])\n",
    "\n",
    "print(\"\\n\")\n",
    "\n",
    "#  Series as specialized dictionary\n",
    "population_dict  =  {'California': 38332521,\n",
    "                     'Texas': 26448193,\n",
    "                     'New York': 19651127,\n",
    "                     'Florida': 19552860,\n",
    "                     'Illinois': 12882135}\n",
    "population = pd.Series(population_dict)\n",
    "print(population)                                   \n",
    "print(population['California'])\n",
    "print(population['California':'Florida'])"
   ]
  },
  {
   "cell_type": "markdown",
   "id": "1f5b6dc4",
   "metadata": {},
   "source": [
    "### Pandas DataFrame Object\n",
    "\n",
    "- 2D array of indexed object"
   ]
  },
  {
   "cell_type": "code",
   "execution_count": 45,
   "id": "22342d19",
   "metadata": {},
   "outputs": [
    {
     "name": "stdout",
     "output_type": "stream",
     "text": [
      "   int  float  reciprocal\n",
      "a  1.0   0.25    0.500000\n",
      "b  2.0   0.50    0.333333\n",
      "c  3.0   0.75    0.250000\n",
      "d  4.0   1.00         NaN\n",
      "e  NaN    NaN    0.200000\n",
      "\n",
      "\n",
      "California    423967\n",
      "Texas         695662\n",
      "New York      141297\n",
      "Florida       170312\n",
      "Illinois      149995\n",
      "dtype: int64\n",
      "            Population    Area\n",
      "California    38332521  423967\n",
      "Texas         26448193  695662\n",
      "New York      19651127  141297\n",
      "Florida       19552860  170312\n",
      "Illinois      12882135  149995\n",
      "Index(['California', 'Texas', 'New York', 'Florida', 'Illinois'], dtype='object')\n",
      "Index(['Population', 'Area'], dtype='object')\n",
      "California    423967\n",
      "Texas         695662\n",
      "New York      141297\n",
      "Florida       170312\n",
      "Illinois      149995\n",
      "Name: Area, dtype: int64\n"
     ]
    }
   ],
   "source": [
    "#  DataFrame as a generalized NumPy array\n",
    "data_1 = pd.Series([0.25, 0.5, 0.75, 1.0],\n",
    "                    index=['a', 'b', 'c', 'd'])\n",
    "\n",
    "data_2 = pd.Series([1,2,3,4],\n",
    "                   index=['a', 'b', 'c', 'd'])\n",
    "\n",
    "data_3 = pd.Series([1/2 , 1/3 , 1/4 , 1/5],\n",
    "                   index=['a','b','c','e'])                   \n",
    "num = pd.DataFrame({'int':data_2 , 'float':data_1 , 'reciprocal':data_3})\n",
    "print(num)\n",
    "\n",
    "\n",
    "print(\"\\n\")\n",
    "\n",
    "\n",
    "area_dict = {'California': 423967, 'Texas': 695662, 'New York': 141297,\n",
    "                'Florida': 170312, 'Illinois': 149995}\n",
    "area = pd.Series(area_dict)\n",
    "print(area)\n",
    "\n",
    "state = pd.DataFrame({'Population': population ,'Area':area})\n",
    "print(state)\n",
    "print(state.index)\n",
    "print(state.columns)\n",
    "print(state['Area'])"
   ]
  },
  {
   "cell_type": "code",
   "execution_count": 46,
   "id": "e6eb8be8",
   "metadata": {},
   "outputs": [
    {
     "name": "stdout",
     "output_type": "stream",
     "text": [
      "            population\n",
      "California    38332521\n",
      "Texas         26448193\n",
      "New York      19651127\n",
      "Florida       19552860\n",
      "Illinois      12882135\n",
      "            Population\n",
      "California    38332521\n",
      "Texas         26448193\n",
      "New York      19651127\n",
      "Florida       19552860\n",
      "Illinois      12882135\n",
      "\n",
      "\n",
      "        foo       bar\n",
      "a  0.766131  0.920823\n",
      "b  0.244733  0.749249\n",
      "c  0.277639  0.371276\n",
      "\n",
      "\n",
      "[(0, 0.) (0, 0.) (0, 0.)]\n"
     ]
    },
    {
     "data": {
      "text/html": [
       "<div>\n",
       "<style scoped>\n",
       "    .dataframe tbody tr th:only-of-type {\n",
       "        vertical-align: middle;\n",
       "    }\n",
       "\n",
       "    .dataframe tbody tr th {\n",
       "        vertical-align: top;\n",
       "    }\n",
       "\n",
       "    .dataframe thead th {\n",
       "        text-align: right;\n",
       "    }\n",
       "</style>\n",
       "<table border=\"1\" class=\"dataframe\">\n",
       "  <thead>\n",
       "    <tr style=\"text-align: right;\">\n",
       "      <th></th>\n",
       "      <th>A</th>\n",
       "      <th>B</th>\n",
       "    </tr>\n",
       "  </thead>\n",
       "  <tbody>\n",
       "    <tr>\n",
       "      <th>0</th>\n",
       "      <td>0</td>\n",
       "      <td>0.0</td>\n",
       "    </tr>\n",
       "    <tr>\n",
       "      <th>1</th>\n",
       "      <td>0</td>\n",
       "      <td>0.0</td>\n",
       "    </tr>\n",
       "    <tr>\n",
       "      <th>2</th>\n",
       "      <td>0</td>\n",
       "      <td>0.0</td>\n",
       "    </tr>\n",
       "  </tbody>\n",
       "</table>\n",
       "</div>"
      ],
      "text/plain": [
       "   A    B\n",
       "0  0  0.0\n",
       "1  0  0.0\n",
       "2  0  0.0"
      ]
     },
     "execution_count": 46,
     "metadata": {},
     "output_type": "execute_result"
    }
   ],
   "source": [
    "# Constructing DataFrame objects\n",
    "y = pd.DataFrame(population ,columns=['population'])            # index define to row and columns to column obviously\n",
    "print(y)\n",
    "x = pd.DataFrame({'Population':population})\n",
    "print(x)\n",
    "print('\\n')\n",
    "x = pd.DataFrame(np.random.rand(3, 2),\n",
    "             columns=['foo', 'bar'],\n",
    "             index=['a', 'b', 'c'])\n",
    "print(x)\n",
    "print('\\n')\n",
    "A = np.zeros(3, dtype=[('A', 'i8'), ('B', 'f8')])\n",
    "print(A)\n",
    "pd.DataFrame(A)\n"
   ]
  },
  {
   "cell_type": "markdown",
   "id": "db7d226b",
   "metadata": {},
   "source": [
    "### Pandas Index Object\n",
    "\n",
    "- Its is simillar to numpy array"
   ]
  },
  {
   "cell_type": "code",
   "execution_count": 47,
   "id": "80b59189",
   "metadata": {},
   "outputs": [
    {
     "name": "stdout",
     "output_type": "stream",
     "text": [
      "Index([2, 3, 5, 7, 11], dtype='int64')\n",
      "5\n",
      "5 (5,) 1 int64\n",
      "\n",
      "\n",
      "Index([0, 3, 5, 7, 9], dtype='int64')\n",
      "Index([3, 3, 5, 7, 11], dtype='int64')\n",
      "Index([3, 0, 0, 0, 2], dtype='int64')\n"
     ]
    }
   ],
   "source": [
    "ind = pd.Index([2, 3, 5, 7, 11])\n",
    "print(ind)\n",
    "\n",
    "#  Index as immutable array\n",
    "print(ind[2])\n",
    "ind[::2]\n",
    "print(ind.size, ind.shape, ind.ndim, ind.dtype)\n",
    "# ind[1] = 99                                       # unlike numpy array it is immutable\n",
    "\n",
    "print('\\n')\n",
    "\n",
    "#  Index as ordered set\n",
    "indA = pd.Index([1, 3, 5, 7, 9])\n",
    "indB = pd.Index([2, 3, 5, 7, 11])\n",
    "print(indA & indB)  # intersection\n",
    "print(indA | indB)  # union\n",
    "print(indA ^ indB)  # symmetric difference"
   ]
  },
  {
   "cell_type": "markdown",
   "id": "973e853e",
   "metadata": {},
   "source": [
    "## Data indexing and Selection"
   ]
  },
  {
   "cell_type": "markdown",
   "id": "da8ddb07",
   "metadata": {},
   "source": [
    "###  Data Selection in Series\n"
   ]
  },
  {
   "cell_type": "code",
   "execution_count": 48,
   "id": "4c058d61",
   "metadata": {},
   "outputs": [
    {
     "name": "stdout",
     "output_type": "stream",
     "text": [
      "True\n",
      "Index(['a', 'b', 'c', 'd'], dtype='object')\n",
      "[('a', 0.25), ('b', 0.5), ('c', 0.75), ('d', 1.0)]\n",
      "a    0.25\n",
      "b    0.50\n",
      "c    0.75\n",
      "d    1.01\n",
      "e    1.25\n",
      "dtype: float64\n",
      "\n",
      "\n",
      "c    0.75\n",
      "d    1.01\n",
      "e    1.25\n",
      "dtype: float64\n",
      "a    0.25\n",
      "b    0.50\n",
      "dtype: float64\n",
      "b    0.50\n",
      "c    0.75\n",
      "dtype: float64\n",
      "a    0.25\n",
      "e    1.25\n",
      "dtype: float64\n"
     ]
    }
   ],
   "source": [
    "# Series as dictionary\n",
    "data = pd.Series([0.25, 0.5, 0.75, 1.0],\n",
    "                index=['a', 'b', 'c', 'd'])\n",
    "print('a' in data)\n",
    "print(data.keys())\n",
    "print(list(data.items()))\n",
    "data['e'] = 1.25\n",
    "data['d'] = 1.01\n",
    "print(data)\n",
    "\n",
    "print(\"\\n\")\n",
    "\n",
    "# Series as one-dimensional array\n",
    "print(data['c':'e'])     # slicing by explicit index\n",
    "print(data[0:2])            # slicing by implicit integer index\n",
    "print(data[(data > 0.3) & (data < 0.8)])       # masking\n",
    "print(data[['a', 'e']])              # fancy indexing\n"
   ]
  },
  {
   "cell_type": "markdown",
   "id": "a0d3ddb5",
   "metadata": {},
   "source": [
    "### Indexers: loc, iloc, and ix\n",
    "\n",
    "- loc always references the explicit index\n",
    "- iloc always references the implicit Python-style index\n",
    "\n",
    "+ “explicit is better than implicit.”"
   ]
  },
  {
   "cell_type": "code",
   "execution_count": 49,
   "id": "7772e932",
   "metadata": {},
   "outputs": [
    {
     "name": "stdout",
     "output_type": "stream",
     "text": [
      "1    a\n",
      "3    b\n",
      "5    c\n",
      "dtype: object\n",
      "a\n",
      "1    a\n",
      "3    b\n",
      "dtype: object\n",
      "\n",
      "b\n",
      "3    b\n",
      "5    c\n",
      "dtype: object\n"
     ]
    }
   ],
   "source": [
    "data = pd.Series(['a', 'b', 'c'], index=[1, 3, 5])\n",
    "print(data)\n",
    "print(data.loc[1])\n",
    "print(data.loc[1:3])\n",
    "\n",
    "print(\"\")\n",
    "\n",
    "print(data.iloc[1])\n",
    "print(data.iloc[1:3])"
   ]
  },
  {
   "cell_type": "markdown",
   "id": "e29ac164",
   "metadata": {},
   "source": [
    "###  Data Selection in DataFrame"
   ]
  },
  {
   "cell_type": "code",
   "execution_count": 50,
   "id": "fad06c36",
   "metadata": {},
   "outputs": [
    {
     "name": "stdout",
     "output_type": "stream",
     "text": [
      "              area  population\n",
      "California  423967    38332521\n",
      "Texas       695662    26448193\n",
      "New York    141297    19651127\n",
      "Florida     170312    19552860\n",
      "Illinois    149995    12882135\n",
      "California    423967\n",
      "Texas         695662\n",
      "New York      141297\n",
      "Florida       170312\n",
      "Illinois      149995\n",
      "Name: area, dtype: int64\n",
      "California    423967\n",
      "Texas         695662\n",
      "New York      141297\n",
      "Florida       170312\n",
      "Illinois      149995\n",
      "Name: area, dtype: int64\n",
      "              area  population     density\n",
      "California  423967    38332521   90.413926\n",
      "Texas       695662    26448193   38.018740\n",
      "New York    141297    19651127  139.076746\n",
      "Florida     170312    19552860  114.806121\n",
      "Illinois    149995    12882135   85.883763\n"
     ]
    }
   ],
   "source": [
    "# DataFrame as a dictionary\n",
    "area = pd.Series({'California': 423967, 'Texas': 695662,\n",
    "                  'New York': 141297, 'Florida': 170312,\n",
    "                  'Illinois': 149995})\n",
    "pop = pd.Series({'California': 38332521, 'Texas': 26448193,\n",
    "                'New York': 19651127, 'Florida': 19552860,\n",
    "                'Illinois': 12882135})\n",
    "data = pd.DataFrame({'area':area, 'population':pop})\n",
    "print(data)\n",
    "print(data['area']) #dictionary-style indexing of the column name\n",
    "print(data.area)    #column names that are strings\n",
    "data['density'] = data['population'] / data['area']\n",
    "print(data)"
   ]
  },
  {
   "cell_type": "code",
   "execution_count": 51,
   "id": "6101abce",
   "metadata": {},
   "outputs": [
    {
     "name": "stdout",
     "output_type": "stream",
     "text": [
      "              California         Texas      New York       Florida  \\\n",
      "area        4.239670e+05  6.956620e+05  1.412970e+05  1.703120e+05   \n",
      "population  3.833252e+07  2.644819e+07  1.965113e+07  1.955286e+07   \n",
      "density     9.041393e+01  3.801874e+01  1.390767e+02  1.148061e+02   \n",
      "\n",
      "                Illinois  \n",
      "area        1.499950e+05  \n",
      "population  1.288214e+07  \n",
      "density     8.588376e+01  \n",
      "[4.23967000e+05 3.83325210e+07 9.04139261e+01]\n",
      "California    423967\n",
      "Texas         695662\n",
      "New York      141297\n",
      "Florida       170312\n",
      "Illinois      149995\n",
      "Name: area, dtype: int64\n",
      "              area\n",
      "California  423967\n",
      "Texas       695662\n",
      "New York    141297\n",
      "Florida     170312\n",
      "              area  population\n",
      "California  423967    38332521\n",
      "Texas       695662    26448193\n",
      "New York    141297    19651127\n",
      "Florida     170312    19552860\n",
      "Illinois    149995    12882135\n",
      "          population     density\n",
      "New York    19651127  139.076746\n",
      "Florida     19552860  114.806121\n",
      "              area  population     density\n",
      "California  423967    38332521   90.000000\n",
      "Texas       695662    26448193   38.018740\n",
      "New York    141297    19651127  139.076746\n",
      "Florida     170312    19552860  114.806121\n",
      "Illinois    149995    12882135   85.883763\n"
     ]
    }
   ],
   "source": [
    "# DataFrame as two-dimensional array\n",
    "data.values\n",
    "print(data.T)\n",
    "print(data.values[0])\n",
    "print(data['area'])\n",
    "print(data.iloc[:4, :1])                      # while indexing refers to columns, slicing refers to rows\n",
    "print(data.loc[:'Illinois', :'population'])\n",
    "print(data.loc[data.density > 100, ['population', 'density']])\n",
    "data.iloc[0, 2] = 90\n",
    "print(data)\n"
   ]
  },
  {
   "cell_type": "markdown",
   "id": "7323d1c7",
   "metadata": {},
   "source": [
    "## Operating on Data in Pandas"
   ]
  },
  {
   "cell_type": "code",
   "execution_count": 52,
   "id": "f8cc1940",
   "metadata": {},
   "outputs": [
    {
     "name": "stdout",
     "output_type": "stream",
     "text": [
      "0    6\n",
      "1    3\n",
      "2    7\n",
      "3    4\n",
      "dtype: int32\n",
      "0     403.428793\n",
      "1      20.085537\n",
      "2    1096.633158\n",
      "3      54.598150\n",
      "dtype: float64\n",
      "   A  B  C  D\n",
      "0  6  9  2  6\n",
      "1  7  4  3  7\n",
      "2  7  2  5  4\n",
      "          A             B         C             D\n",
      "0 -1.000000  7.071068e-01  1.000000 -1.000000e+00\n",
      "1 -0.707107  1.224647e-16  0.707107 -7.071068e-01\n",
      "2 -0.707107  1.000000e+00 -0.707107  1.224647e-16\n",
      "\n",
      "\n",
      "Alaska              NaN\n",
      "California    90.413926\n",
      "New York            NaN\n",
      "Texas         38.018740\n",
      "dtype: float64\n",
      "\n",
      "\n",
      "0    NaN\n",
      "1    5.0\n",
      "2    9.0\n",
      "3    NaN\n",
      "dtype: float64\n",
      "\n",
      "\n",
      "   A  B  C  D\n",
      "0  0  9  2  6\n",
      "1  3  8  2  4\n",
      "2  2  6  4  8\n",
      "3  6  1  3  8\n",
      "      A     B     C    D\n",
      "0   1.0  16.0   7.0  6.0\n",
      "1   4.0  12.0   2.0  4.0\n",
      "2  11.0  11.0  12.0  8.0\n",
      "3   6.0   1.0   3.0  8.0\n"
     ]
    }
   ],
   "source": [
    "# Ufuncs: Index Preservation\n",
    "rng = np.random.RandomState(42)\n",
    "ser = pd.Series(rng.randint(0, 10, 4))\n",
    "print(ser)\n",
    "print(np.exp(ser))\n",
    "df = pd.DataFrame(rng.randint(0, 10, (3,4)),\n",
    "                columns=['A', 'B', 'C', 'D'])\n",
    "print(df)\n",
    "print(np.sin(df * np.pi / 4))\n",
    "\n",
    "print(\"\\n\")\n",
    "\n",
    "# UFuncs: Index Alignment\n",
    "area = pd.Series({'Alaska': 1723337, 'Texas': 695662,\n",
    "                  'California': 423967}, name='area')\n",
    "population = pd.Series({'California': 38332521, 'Texas': 26448193,\n",
    "                         'New York': 19651127}, name='population')\n",
    "density = population/area\n",
    "print(density)                      # Nan == Not a number\n",
    "\n",
    "print(\"\\n\")\n",
    "\n",
    "A = pd.Series([2, 4, 6], index=[0, 1, 2])\n",
    "B = pd.Series([1, 3, 5], index=[1, 2, 3])\n",
    "print(A + B)\n",
    "\n",
    "print(\"\\n\")\n",
    "\n",
    "#  Index alignment in DataFrame\n",
    "\n",
    "a = pd.DataFrame(rng.randint(0,10,(3,3)),           # Use a+b for simple calculation\n",
    "                 columns=list('ABC'))             # and use a.add(b) for not to see NaN\n",
    "b = pd.DataFrame(rng.randint(0,10,(4,4)),\n",
    "                 columns=list('ABCD'))\n",
    "\n",
    "print(b)                                        # + - a.add(b)      # * - a.mul(b)\n",
    "print(a.add(b,fill_value=0))                    # - - a.sub(b)      # / - a.div(b)\n",
    "\n"
   ]
  },
  {
   "cell_type": "code",
   "execution_count": 53,
   "id": "37db8fbc",
   "metadata": {},
   "outputs": [
    {
     "name": "stdout",
     "output_type": "stream",
     "text": [
      "   P  Q  R  S\n",
      "0  0  0  0  0\n",
      "1  3 -8 -5 -3\n",
      "2  6 -7 -8 -6\n",
      "   P  Q  R  S\n",
      "0 -7  1  0  1\n",
      "1  1 -2  0  3\n",
      "2  7  2  0  3\n",
      "\n",
      "\n",
      "P    1\n",
      "R    8\n",
      "Name: 0, dtype: int32\n",
      "     P   Q    R   S\n",
      "0  0.0 NaN  0.0 NaN\n",
      "1  3.0 NaN -5.0 NaN\n",
      "2  6.0 NaN -8.0 NaN\n"
     ]
    }
   ],
   "source": [
    "#  Ufuncs: Operations Between DataFrame and Series\n",
    "A = rng.randint(10, size=(3, 4))\n",
    "df = pd.DataFrame(A,columns=list('PQRS'))\n",
    "x = df - df.iloc[0]                         # index wise \n",
    "print(x)\n",
    "y = df.subtract(df['R'], axis=0)            # column wise but need to define axis\n",
    "print(y)\n",
    "\n",
    "print(\"\\n\")\n",
    "\n",
    "halfrow = df.iloc[0,::2]                      # automatically align indices between the two elements\n",
    "print(halfrow)\n",
    "z = df - halfrow\n",
    "print(z)"
   ]
  },
  {
   "cell_type": "markdown",
   "id": "db8980f9",
   "metadata": {},
   "source": [
    "## Handling Missing Data\n",
    "\n"
   ]
  },
  {
   "cell_type": "markdown",
   "id": "5c2f4bc9",
   "metadata": {},
   "source": [
    "-   Data handling revolve around one of two strategies: using a mask that globally indicates missing values, or choosing a sentinel value that indicates a missing entry."
   ]
  },
  {
   "cell_type": "markdown",
   "id": "67a0c282",
   "metadata": {},
   "source": [
    "###  Missing Data in Pandas\n",
    "\n",
    "- NaN (Not a Number) is the standard missing value marker used in NumPy and thus also in Pandas.\n",
    "\n",
    "- None is the standard Python singleton for missing or undefined data, and Pandas automatically converts it to NaN where needed"
   ]
  },
  {
   "cell_type": "code",
   "execution_count": 54,
   "id": "92d27f86",
   "metadata": {},
   "outputs": [
    {
     "name": "stdout",
     "output_type": "stream",
     "text": [
      "object\n",
      "\n",
      "\n",
      "float64\n",
      "nan\n",
      "nan\n",
      "nan nan nan\n",
      "8.0 1.0 4.0\n"
     ]
    }
   ],
   "source": [
    "# None: Pythonic missing data\n",
    "vals1 = np.array([1, None, 3, 4])           # it cannot be used in any arbitrary NumPy/Pandas array\n",
    "print(vals1.dtype)                                          #  but only in arrays with data type 'object' \n",
    "#vals1.sum()                                   # This reflects that addition between an integer and None is undefined\n",
    "\n",
    "print(\"\\n\")\n",
    "\n",
    "#  NaN: Missing numerical data\n",
    "vals2 = np.array([1, np.nan, 3, 4])\n",
    "print(vals2.dtype)\n",
    "\n",
    "x = 1 + np.nan                  # this means that aggregates over the values are well defined\n",
    "print(x)                        # (i.e., they don’t result in an error) but not always useful               \n",
    "y = 2*np.nan\n",
    "print(y)   \n",
    "print(vals2.sum(), vals2.min(), vals2.max())\n",
    "print( np.nansum(vals2), np.nanmin(vals2), np.nanmax(vals2))\n",
    "\n"
   ]
  },
  {
   "cell_type": "code",
   "execution_count": 55,
   "id": "ad831b23",
   "metadata": {},
   "outputs": [
    {
     "name": "stdout",
     "output_type": "stream",
     "text": [
      "0    1.0\n",
      "1    NaN\n",
      "2    2.0\n",
      "3    NaN\n",
      "dtype: float64\n",
      "0    NaN\n",
      "1    1.0\n",
      "dtype: float64\n"
     ]
    }
   ],
   "source": [
    "# NaN and None in Pandas \n",
    "a = pd.Series([1, np.nan, 2, None])     # Both None and np.nan become NaN\n",
    "print(a)                                # Resulting dtype become float64\n",
    "\n",
    "b = pd.Series([0, 1], dtype=int)        # None will become NaN\n",
    "b[0] = None                             # Int will converted to Float\n",
    "print(b)\n",
    "\n",
    "# Typeclass          stored                 NA sentinel\n",
    "# float              no change              np.nan\n",
    "# object             no change              none or np.nan\n",
    "# int                cast to float64        np.nan\n",
    "# bool               cast to object         none or np.nan\n",
    "\n",
    "  # Even strings are stored as object dtype by default.\n",
    "  # Missing strings (None or np.nan) will result in NaN\n",
    "    # with object dtype unless you use the newer string dtype (available in newer Pandas versions)."
   ]
  },
  {
   "cell_type": "markdown",
   "id": "7b5019e7",
   "metadata": {},
   "source": [
    "###  Operating on Null Values\n"
   ]
  },
  {
   "cell_type": "code",
   "execution_count": 56,
   "id": "ee5ea3af",
   "metadata": {},
   "outputs": [
    {
     "name": "stdout",
     "output_type": "stream",
     "text": [
      "0    False\n",
      "1     True\n",
      "2    False\n",
      "3     True\n",
      "dtype: bool\n",
      "0     True\n",
      "1    False\n",
      "2     True\n",
      "3    False\n",
      "dtype: bool\n",
      "0        1\n",
      "2    hello\n",
      "dtype: object\n",
      "\n",
      "\n",
      "0        1\n",
      "2    hello\n",
      "dtype: object\n",
      "   A    B  C  D\n",
      "0  1  7.0  3  1\n",
      "1  5  NaN  9  3\n",
      "2  5  1.0  9  1\n",
      "   A    B  C  D\n",
      "0  1  7.0  3  1\n",
      "2  5  1.0  9  1\n",
      "   A  C  D\n",
      "0  1  3  1\n",
      "1  5  9  3\n",
      "2  5  9  1\n",
      "   A    B  C  D\n",
      "0  1  7.0  3  1\n",
      "1  5  NaN  9  3\n",
      "2  5  1.0  9  1\n",
      "   A    B  C  D\n",
      "0  1  7.0  3  1\n",
      "1  5  NaN  9  3\n",
      "2  5  1.0  9  1\n",
      "\n",
      "\n",
      "0        1\n",
      "1      999\n",
      "2    hello\n",
      "3      999\n",
      "dtype: object\n",
      "0        1\n",
      "1        1\n",
      "2    hello\n",
      "3    hello\n",
      "dtype: object\n",
      "0        1\n",
      "1    hello\n",
      "2    hello\n",
      "3     None\n",
      "dtype: object\n",
      "     A    B    C    D\n",
      "0  1.0  7.0  3.0  1.0\n",
      "1  5.0  5.0  9.0  3.0\n",
      "2  5.0  1.0  9.0  1.0\n"
     ]
    },
    {
     "name": "stderr",
     "output_type": "stream",
     "text": [
      "C:\\Users\\Ayush\\AppData\\Local\\Temp\\ipykernel_14372\\3144362768.py:27: FutureWarning: Series.fillna with 'method' is deprecated and will raise in a future version. Use obj.ffill() or obj.bfill() instead.\n",
      "  print(data.fillna(method='ffill'))  # forward fill(propagate previous value)\n",
      "C:\\Users\\Ayush\\AppData\\Local\\Temp\\ipykernel_14372\\3144362768.py:28: FutureWarning: Series.fillna with 'method' is deprecated and will raise in a future version. Use obj.ffill() or obj.bfill() instead.\n",
      "  print(data.fillna(method='bfill'))  # backward fill(use next valid value)\n",
      "C:\\Users\\Ayush\\AppData\\Local\\Temp\\ipykernel_14372\\3144362768.py:30: FutureWarning: DataFrame.fillna with 'method' is deprecated and will raise in a future version. Use obj.ffill() or obj.bfill() instead.\n",
      "  print(df.fillna(method='ffill', axis=1))\n"
     ]
    }
   ],
   "source": [
    "# Detecting Null Values\n",
    "data = pd.Series([1, np.nan, 'hello', None])\n",
    "print(data.isnull())                            # isnull() :- detect NaN or None, return True\n",
    "print(data.notnull())                           # notnull() :- opposite of isnull()                  \n",
    "print(data[data.notnull()])\n",
    "\n",
    "print(\"\\n\")\n",
    "\n",
    "# Dropping Null Values\n",
    "print(data.dropna())\n",
    "\n",
    "\n",
    "df = pd.DataFrame(rng.randint(0, 10, (3,4)),\n",
    "                columns=['A', 'B', 'C', 'D'])\n",
    "\n",
    "df.loc[(1,'B')] = None\n",
    "print(df)\n",
    "print(df.dropna())                     # Drops rows with any NaN\n",
    "print(df.dropna(axis=1))              # Drops columns with any NaN\n",
    "print(df.dropna(axis=1, how='all'))   # Drops columns where all values are NaN\n",
    "print(df.dropna(thresh=3))            # Keeps only rows with at least 3 non-null values\n",
    "\n",
    "print(\"\\n\")\n",
    "\n",
    "# Filling Null Values\n",
    "print(data.fillna(999))\n",
    "print(data.fillna(method='ffill'))  # forward fill(propagate previous value)\n",
    "print(data.fillna(method='bfill'))  # backward fill(use next valid value)\n",
    "\n",
    "print(df.fillna(method='ffill', axis=1))\n"
   ]
  },
  {
   "cell_type": "markdown",
   "id": "35a6e206",
   "metadata": {},
   "source": [
    "## Hierarchical Indexing"
   ]
  },
  {
   "cell_type": "markdown",
   "id": "938b0844",
   "metadata": {},
   "source": [
    "### A Multiply Indexed Series"
   ]
  },
  {
   "cell_type": "code",
   "execution_count": 57,
   "id": "ee9c00e0",
   "metadata": {},
   "outputs": [
    {
     "name": "stdout",
     "output_type": "stream",
     "text": [
      "California  2000    33871648\n",
      "            2010    37253956\n",
      "New York    2000    18976457\n",
      "            2010    19378102\n",
      "Texas       2000    20851820\n",
      "            2010    25145561\n",
      "dtype: int64\n",
      "California    37253956\n",
      "New York      19378102\n",
      "Texas         25145561\n",
      "dtype: int64\n",
      "\n",
      "\n",
      "                2000      2010\n",
      "California  33871648  37253956\n",
      "New York    18976457  19378102\n",
      "Texas       20851820  25145561\n",
      "California  2000    33871648\n",
      "            2010    37253956\n",
      "New York    2000    18976457\n",
      "            2010    19378102\n",
      "Texas       2000    20851820\n",
      "            2010    25145561\n",
      "dtype: int64\n",
      "\n",
      "\n",
      "                    total  under18\n",
      "California 2000  33871648  9267089\n",
      "           2010  37253956  9284094\n",
      "New York   2000  18976457  4687374\n",
      "           2010  19378102  4318033\n",
      "Texas      2000  20851820  5906301\n",
      "           2010  25145561  6879014\n",
      "\n",
      "\n",
      "                2000      2010\n",
      "California  0.273594  0.249211\n",
      "New York    0.247010  0.222831\n",
      "Texas       0.283251  0.273568\n"
     ]
    }
   ],
   "source": [
    "# Bad Way\n",
    "index = [('California', 2000), ('California', 2010),\n",
    "         ('New York', 2000), ('New York', 2010),\n",
    "         ('Texas', 2000), ('Texas', 2010)]\n",
    "pop = pd.Series([33871648, 37253956, 18976457, 19378102, 20851820, 25145561], index=index)\n",
    "                        # Here find data for 2000 or 2010 is difficult and slow\n",
    "\n",
    "# Better Way\n",
    "index = pd.MultiIndex.from_tuples(index)\n",
    "pop = pop.reindex(index)\n",
    "print(pop)\n",
    "print(pop[:, 2010])\n",
    "print(\"\\n\")\n",
    "pop_df = pop.unstack()              # unstack() ➡️ Turns MultiIndex Series → DataFrame (years become columns)\n",
    "print(pop_df)                       # stack() ➡️ DataFrame → Series with MultiIndex\n",
    "print(pop_df.stack())       \n",
    "print(\"\\n\")\n",
    "pop_df = pd.DataFrame({\n",
    "    'total': pop,\n",
    "    'under18': [9267089, 9284094, 4687374, 4318033, 5906301, 6879014]\n",
    "})\n",
    "print(pop_df)\n",
    "print(\"\\n\")\n",
    "f_u18 = pop_df['under18'] / pop_df['total']\n",
    "print(f_u18.unstack())\n"
   ]
  },
  {
   "cell_type": "markdown",
   "id": "30865357",
   "metadata": {},
   "source": [
    "###  Methods of MultiIndex Creation"
   ]
  },
  {
   "cell_type": "code",
   "execution_count": 58,
   "id": "fb1b691f",
   "metadata": {},
   "outputs": [
    {
     "name": "stdout",
     "output_type": "stream",
     "text": [
      "        data1     data2\n",
      "a 1  0.450386  0.741786\n",
      "  2  0.168651  0.146264\n",
      "b 1  0.628485  0.551222\n",
      "  2  0.852978  0.721041\n",
      "California  2000    33871648\n",
      "            2010    37253956\n",
      "New York    2000    18976457\n",
      "            2010    19378102\n",
      "Texas       2000    20851820\n",
      "            2010    25145561\n",
      "dtype: int64\n",
      "\n",
      "\n"
     ]
    },
    {
     "data": {
      "text/plain": [
       "MultiIndex([('a', 1),\n",
       "            ('a', 2),\n",
       "            ('b', 1),\n",
       "            ('b', 2)],\n",
       "           )"
      ]
     },
     "execution_count": 58,
     "metadata": {},
     "output_type": "execute_result"
    }
   ],
   "source": [
    "# Quick MultiIndex Creation Methods\n",
    "df = pd.DataFrame(np.random.rand(4, 2),                         # From nested index lists\n",
    "                  index=[['a', 'a', 'b', 'b'], [1, 2, 1, 2]],\n",
    "                  columns=['data1', 'data2'])\n",
    "print(df)\n",
    "\n",
    "data = {('California', 2000): 33871648,('California', 2010):37253956,       # From dictionaries with tuple keys\n",
    "         ('New York', 2000):18976457, ('New York', 2010):19378102,\n",
    "         ('Texas', 2000):20851820, ('Texas', 2010):25145561 }\n",
    "data_multi=pd.Series(data)\n",
    "print(data_multi)\n",
    "\n",
    "print(\"\\n\")\n",
    "\n",
    "# Explicit MultiIndex Constructors\n",
    "pd.MultiIndex.from_arrays([['a', 'a', 'b', 'b'], [1, 2, 1, 2]])\n",
    "pd.MultiIndex.from_tuples([('a', 1), ('a', 2), ('b', 1), ('b', 2)])\n",
    "pd.MultiIndex.from_product([['a', 'b'], [1, 2]])        # a*1, a*2, b*1, b*2"
   ]
  },
  {
   "cell_type": "code",
   "execution_count": 59,
   "id": "89b5e944",
   "metadata": {},
   "outputs": [
    {
     "name": "stdout",
     "output_type": "stream",
     "text": [
      "state       year\n",
      "California  2000    33871648\n",
      "            2010    37253956\n",
      "New York    2000    18976457\n",
      "            2010    19378102\n",
      "Texas       2000    20851820\n",
      "            2010    25145561\n",
      "dtype: int64\n",
      "\n",
      "\n",
      "subject      Bob       Guido         Sue      \n",
      "type          HR  Temp    HR  Temp    HR  Temp\n",
      "year visit                                    \n",
      "2013 1      31.0  37.2  43.0  37.6  35.0  37.9\n",
      "     2      39.0  37.9  51.0  37.2  30.0  36.3\n",
      "2014 1      49.0  36.5  42.0  35.9  39.0  36.9\n",
      "     2      43.0  34.1  24.0  37.5  35.0  35.8\n",
      "\n",
      "type          HR  Temp\n",
      "year visit            \n",
      "2013 1      43.0  37.6\n",
      "     2      51.0  37.2\n",
      "2014 1      42.0  35.9\n",
      "     2      24.0  37.5\n",
      "\n",
      "year  visit\n",
      "2013  1        35.0\n",
      "      2        30.0\n",
      "2014  1        39.0\n",
      "      2        35.0\n",
      "Name: HR, dtype: float64\n"
     ]
    }
   ],
   "source": [
    "# Naming MultiIndex Levels\n",
    "pop.index.names = ['state', 'year']\n",
    "print(pop)\n",
    "\n",
    "print(\"\\n\")\n",
    "\n",
    "#  MultiIndex for Columns (Not Just Rows!)\n",
    "index = pd.MultiIndex.from_product([[2013, 2014], [1, 2]], names=['year', 'visit'])\n",
    "columns = pd.MultiIndex.from_product([['Bob', 'Guido', 'Sue'], ['HR', 'Temp']], names=['subject', 'type'])\n",
    "\n",
    "data = np.round(np.random.randn(4, 6), 1)\n",
    "data[:, ::2] *= 10\n",
    "data += 37                                  # DataFrame now holds 4D data: year × visit × subject × measurement_type\n",
    "\n",
    "health_data = pd.DataFrame(data, index=index, columns=columns)\n",
    "print(health_data)\n",
    "print(\"\")\n",
    "print(health_data['Guido'])\n",
    "print(\"\")\n",
    "pop[:, 2010]\n",
    "sue = health_data['Sue']['HR']\n",
    "print(sue)"
   ]
  },
  {
   "cell_type": "markdown",
   "id": "486d5f13",
   "metadata": {},
   "source": [
    "###  Indexing and Slicing a MultiIndex"
   ]
  },
  {
   "cell_type": "code",
   "execution_count": 60,
   "id": "fcefab64",
   "metadata": {},
   "outputs": [
    {
     "name": "stdout",
     "output_type": "stream",
     "text": [
      "state       year\n",
      "California  2000    33871648\n",
      "            2010    37253956\n",
      "New York    2000    18976457\n",
      "            2010    19378102\n",
      "Texas       2000    20851820\n",
      "            2010    25145561\n",
      "dtype: int64\n",
      "\n",
      "\n",
      "33871648\n",
      "year\n",
      "2000    33871648\n",
      "2010    37253956\n",
      "dtype: int64\n",
      "state       year\n",
      "California  2000    33871648\n",
      "            2010    37253956\n",
      "New York    2000    18976457\n",
      "            2010    19378102\n",
      "dtype: int64\n",
      "state\n",
      "California    33871648\n",
      "New York      18976457\n",
      "Texas         20851820\n",
      "dtype: int64\n",
      "state\n",
      "California    37253956\n",
      "New York      19378102\n",
      "Texas         25145561\n",
      "dtype: int64\n",
      "state       year\n",
      "California  2000    33871648\n",
      "            2010    37253956\n",
      "Texas       2010    25145561\n",
      "dtype: int64\n",
      "state       year\n",
      "California  2000    33871648\n",
      "            2010    37253956\n",
      "Texas       2000    20851820\n",
      "            2010    25145561\n",
      "dtype: int64\n",
      "state\n",
      "California    37253956\n",
      "New York      19378102\n",
      "dtype: int64\n"
     ]
    }
   ],
   "source": [
    "# Indexing a MultiIndexed Series\n",
    "print(pop)\n",
    "print(\"\\n\")\n",
    "print(pop['California', 2000])          # Access single element\n",
    "print(pop['California'])\n",
    "print(pop.loc['California':'New York'])\n",
    "print(pop[:, 2000])\n",
    "print(pop[:, 2010])\n",
    "print(pop[pop > 22000000])              # filters population values greater than 22 million\n",
    "print(pop[['California', 'Texas']])\n",
    "\n",
    "x = pop[['California','New York']]\n",
    "print(x[:, 2010])"
   ]
  },
  {
   "cell_type": "code",
   "execution_count": 61,
   "id": "5a48bef7",
   "metadata": {},
   "outputs": [
    {
     "name": "stdout",
     "output_type": "stream",
     "text": [
      "subject      Bob       Guido         Sue      \n",
      "type          HR  Temp    HR  Temp    HR  Temp\n",
      "year visit                                    \n",
      "2013 1      31.0  37.2  43.0  37.6  35.0  37.9\n",
      "     2      39.0  37.9  51.0  37.2  30.0  36.3\n",
      "2014 1      49.0  36.5  42.0  35.9  39.0  36.9\n",
      "     2      43.0  34.1  24.0  37.5  35.0  35.8\n",
      "\n",
      "year  visit\n",
      "2013  1        31.0\n",
      "      2        39.0\n",
      "2014  1        49.0\n",
      "      2        43.0\n",
      "Name: (Bob, HR), dtype: float64\n",
      "subject      Bob      \n",
      "type          HR  Temp\n",
      "year visit            \n",
      "2013 1      31.0  37.2\n",
      "     2      39.0  37.9\n",
      "year  visit\n",
      "2013  1        31.0\n",
      "      2        39.0\n",
      "2014  1        49.0\n",
      "      2        43.0\n",
      "Name: (Bob, HR), dtype: float64\n"
     ]
    },
    {
     "data": {
      "text/html": [
       "<div>\n",
       "<style scoped>\n",
       "    .dataframe tbody tr th:only-of-type {\n",
       "        vertical-align: middle;\n",
       "    }\n",
       "\n",
       "    .dataframe tbody tr th {\n",
       "        vertical-align: top;\n",
       "    }\n",
       "\n",
       "    .dataframe thead tr th {\n",
       "        text-align: left;\n",
       "    }\n",
       "\n",
       "    .dataframe thead tr:last-of-type th {\n",
       "        text-align: right;\n",
       "    }\n",
       "</style>\n",
       "<table border=\"1\" class=\"dataframe\">\n",
       "  <thead>\n",
       "    <tr>\n",
       "      <th></th>\n",
       "      <th>subject</th>\n",
       "      <th>Bob</th>\n",
       "      <th>Guido</th>\n",
       "      <th>Sue</th>\n",
       "    </tr>\n",
       "    <tr>\n",
       "      <th></th>\n",
       "      <th>type</th>\n",
       "      <th>HR</th>\n",
       "      <th>HR</th>\n",
       "      <th>HR</th>\n",
       "    </tr>\n",
       "    <tr>\n",
       "      <th>year</th>\n",
       "      <th>visit</th>\n",
       "      <th></th>\n",
       "      <th></th>\n",
       "      <th></th>\n",
       "    </tr>\n",
       "  </thead>\n",
       "  <tbody>\n",
       "    <tr>\n",
       "      <th>2013</th>\n",
       "      <th>1</th>\n",
       "      <td>31.0</td>\n",
       "      <td>43.0</td>\n",
       "      <td>35.0</td>\n",
       "    </tr>\n",
       "    <tr>\n",
       "      <th>2014</th>\n",
       "      <th>1</th>\n",
       "      <td>49.0</td>\n",
       "      <td>42.0</td>\n",
       "      <td>39.0</td>\n",
       "    </tr>\n",
       "  </tbody>\n",
       "</table>\n",
       "</div>"
      ],
      "text/plain": [
       "subject      Bob Guido   Sue\n",
       "type          HR    HR    HR\n",
       "year visit                  \n",
       "2013 1      31.0  43.0  35.0\n",
       "2014 1      49.0  42.0  39.0"
      ]
     },
     "execution_count": 61,
     "metadata": {},
     "output_type": "execute_result"
    }
   ],
   "source": [
    "# Indexing a MultiIndexed DataFrame\n",
    "print(health_data)\n",
    "print(\"\")\n",
    "print(health_data['Bob', 'HR'])\n",
    "print(health_data.iloc[:2, :2])                 # return first row and columns\n",
    "print(health_data.loc[:, ('Bob', 'HR')])        # select all row but only bobs HR columns\n",
    "\n",
    "idx = pd.IndexSlice                                 # idx[:, 1]: All years, but visit 1 only\n",
    "health_data.loc[idx[:, 1], idx[:, 'HR']]            # idx[:, 'HR']: All subjects, but HR data only\n"
   ]
  },
  {
   "cell_type": "markdown",
   "id": "b025df8b",
   "metadata": {},
   "source": [
    "###  Rearranging Multi-Indices"
   ]
  },
  {
   "cell_type": "code",
   "execution_count": 62,
   "id": "bfcee6fd",
   "metadata": {},
   "outputs": [
    {
     "name": "stdout",
     "output_type": "stream",
     "text": [
      "char  int\n",
      "a     1      0.338451\n",
      "      2      0.737322\n",
      "c     1      0.467986\n",
      "      2      0.237759\n",
      "b     1      0.907629\n",
      "      2      0.614070\n",
      "dtype: float64\n",
      "char  int\n",
      "a     1      0.338451\n",
      "      2      0.737322\n",
      "b     1      0.907629\n",
      "      2      0.614070\n",
      "c     1      0.467986\n",
      "      2      0.237759\n",
      "dtype: float64\n",
      "char  int\n",
      "a     1      0.338451\n",
      "      2      0.737322\n",
      "b     1      0.907629\n",
      "      2      0.614070\n",
      "dtype: float64\n",
      "\n",
      "\n",
      "state  California  New York     Texas\n",
      "year                                 \n",
      "2000     33871648  18976457  20851820\n",
      "2010     37253956  19378102  25145561\n",
      "year            2000      2010\n",
      "state                         \n",
      "California  33871648  37253956\n",
      "New York    18976457  19378102\n",
      "Texas       20851820  25145561\n",
      "state       year\n",
      "California  2000    33871648\n",
      "            2010    37253956\n",
      "New York    2000    18976457\n",
      "            2010    19378102\n",
      "Texas       2000    20851820\n",
      "            2010    25145561\n",
      "dtype: int64\n"
     ]
    }
   ],
   "source": [
    "# Sorted vs Unsorted MultiIndex\n",
    "index = pd.MultiIndex.from_product([['a', 'c', 'b'], [1, 2]])\n",
    "data = pd.Series(np.random.rand(6), index=index)\n",
    "data.index.names = ['char', 'int']\n",
    "print(data)\n",
    "                                   # If your MultiIndex is not sorted, partial indexing (like data['a':'b']) will raise an error.\n",
    "data = data.sort_index()           \n",
    "print(data)\n",
    "x = data ['a':'b']                 # First we have to sort than slicing works correctly \n",
    "print(x)                            \n",
    "\n",
    "print(\"\\n\")\n",
    "\n",
    "# Stacking and Unstacking\n",
    "print(pop.unstack(level=0))        # Converts a MultiIndex Series → DataFrame\n",
    "print(pop.unstack(level=1))\n",
    "\n",
    "print(pop.unstack().stack())  # Restores original format\n"
   ]
  },
  {
   "cell_type": "code",
   "execution_count": 63,
   "id": "faecaa52",
   "metadata": {},
   "outputs": [
    {
     "name": "stdout",
     "output_type": "stream",
     "text": [
      "        state  year  population\n",
      "0  California  2000    33871648\n",
      "1  California  2010    37253956\n",
      "2    New York  2000    18976457\n",
      "3    New York  2010    19378102\n",
      "4       Texas  2000    20851820\n",
      "5       Texas  2010    25145561\n",
      "\n",
      "                 population\n",
      "state      year            \n",
      "California 2000    33871648\n",
      "           2010    37253956\n",
      "New York   2000    18976457\n",
      "           2010    19378102\n",
      "Texas      2000    20851820\n",
      "           2010    25145561\n"
     ]
    }
   ],
   "source": [
    "# Resetting and Setting Index\n",
    "x = pop.reset_index(name='population')           # Converts index levels into regular columns.\n",
    "print(x)\n",
    "print(\"\")\n",
    "y = x.set_index(['state', 'year'])               # Creates a MultiIndex from one or more columns.\n",
    "print(y)"
   ]
  },
  {
   "cell_type": "markdown",
   "id": "046744dc",
   "metadata": {},
   "source": [
    "###  Data Aggregations on Multi-Indices\n"
   ]
  },
  {
   "cell_type": "code",
   "execution_count": 64,
   "id": "f70dc359",
   "metadata": {},
   "outputs": [
    {
     "name": "stdout",
     "output_type": "stream",
     "text": [
      "subject   Bob        Guido         Sue       \n",
      "type       HR   Temp    HR  Temp    HR   Temp\n",
      "year                                         \n",
      "2013     35.0  37.55  47.0  37.4  32.5  37.10\n",
      "2014     46.0  35.30  33.0  36.7  37.0  36.35\n",
      "\n",
      "\n",
      "type         HR       Temp\n",
      "year                      \n",
      "2013  38.166667  37.350000\n",
      "2014  38.666667  36.116667\n"
     ]
    },
    {
     "name": "stderr",
     "output_type": "stream",
     "text": [
      "C:\\Users\\Ayush\\AppData\\Local\\Temp\\ipykernel_14372\\1022751248.py:9: FutureWarning: DataFrame.groupby with axis=1 is deprecated. Do `frame.T.groupby(...)` without axis instead.\n",
      "  x = data_mean.groupby(axis=1, level='type').mean()\n"
     ]
    }
   ],
   "source": [
    "health_data\n",
    "#  Aggregate on Row MultiIndex\n",
    "data_mean = health_data.groupby(level='year').mean()\n",
    "print(data_mean)\n",
    "\n",
    "print(\"\\n\")\n",
    "\n",
    "# Aggregate on Column MultiIndex\n",
    "x = data_mean.groupby(axis=1, level='type').mean()\n",
    "print(x)\n",
    "\n"
   ]
  },
  {
   "cell_type": "markdown",
   "id": "2ec699c4",
   "metadata": {},
   "source": [
    "## Combining Datasets: Concat and Append"
   ]
  },
  {
   "cell_type": "code",
   "execution_count": 65,
   "id": "7f93820c",
   "metadata": {},
   "outputs": [
    {
     "name": "stdout",
     "output_type": "stream",
     "text": [
      "1    A\n",
      "2    B\n",
      "3    C\n",
      "4    D\n",
      "5    E\n",
      "6    F\n",
      "dtype: object\n",
      "\n",
      "\n",
      "    A   B\n",
      "1  A1  B1\n",
      "2  A2  B2\n",
      "3  A3  B3\n",
      "4  A4  B4\n",
      "\n",
      "\n",
      "    A   B   C   D\n",
      "0  A0  B0  C0  D0\n",
      "1  A1  B1  C1  D1\n",
      "\n",
      "\n",
      "    A   B\n",
      "0  A0  B0\n",
      "1  A1  B1\n",
      "0  A0  B0\n",
      "1  A1  B1\n",
      "    A   B\n",
      "0  A0  B0\n",
      "1  A1  B1\n",
      "2  A0  B0\n",
      "3  A1  B1\n",
      "      A   B\n",
      "x 0  A0  B0\n",
      "  1  A1  B1\n",
      "y 0  A0  B0\n",
      "  1  A1  B1\n"
     ]
    }
   ],
   "source": [
    "# Concatenating Series\n",
    "ser1 = pd.Series(['A', 'B', 'C'], index=[1, 2, 3])\n",
    "ser2 = pd.Series(['D', 'E', 'F'], index=[4, 5, 6])\n",
    "x = pd.concat([ser1, ser2])\n",
    "print(x)\n",
    "\n",
    "print(\"\\n\")\n",
    "\n",
    "def make_df(cols, ind):\n",
    "    \"\"\"Quickly make a DataFrame\"\"\"\n",
    "    data = {c: [f\"{c}{i}\" for i in ind] for c in cols}\n",
    "    return pd.DataFrame(data, index=ind)\n",
    "\n",
    "# Concatenating DataFrames Vertically (axis=0)\n",
    "df1 = make_df('AB', [1, 2])\n",
    "df2 = make_df('AB', [3, 4])\n",
    "y = pd.concat([df1, df2])\n",
    "print(y)\n",
    "\n",
    "print(\"\\n\")\n",
    "\n",
    "# Concatenating Horizontally (axis=1 or 'col')\n",
    "df3 = make_df('AB', [0, 1])\n",
    "df4 = make_df('CD', [0, 1])\n",
    "z = pd.concat([df3, df4], axis=1)  # axis='col' is invalid, use axis=1\n",
    "print(z)\n",
    "\n",
    "print(\"\\n\")\n",
    "\n",
    "# Handling Duplicate Indexes\n",
    "x = make_df('AB', [0, 1])\n",
    "y = make_df('AB', [0, 1])\n",
    "a = pd.concat([x, y])  # Duplicate indices allowed\n",
    "print(a)\n",
    "# pd.concat([x, y], verify_integrity=True)             # Aviod dupicate index\n",
    "\n",
    "\n",
    "b = pd.concat([x, y], ignore_index=True)                  # Reset index after concat\n",
    "print(b)\n",
    "\n",
    "\n",
    "c = pd.concat([x, y], keys=['x', 'y'])                # Using keys= for MultiIndex\n",
    "print(c)\n"
   ]
  },
  {
   "cell_type": "code",
   "execution_count": 66,
   "id": "1d563a40",
   "metadata": {},
   "outputs": [
    {
     "name": "stdout",
     "output_type": "stream",
     "text": [
      "     A   B   C    D\n",
      "1   A1  B1  C1  NaN\n",
      "2   A2  B2  C2  NaN\n",
      "3  NaN  B3  C3   D3\n",
      "4  NaN  B4  C4   D4\n",
      "    B   C\n",
      "1  B1  C1\n",
      "2  B2  C2\n",
      "3  B3  C3\n",
      "4  B4  C4\n",
      "    B   C    D\n",
      "1  B1  C1  NaN\n",
      "2  B2  C2  NaN\n",
      "3  B3  C3   D3\n",
      "4  B4  C4   D4\n"
     ]
    }
   ],
   "source": [
    "# Concatenation with Different Columns (Join Behavior)\n",
    "df5 = make_df('ABC', [1, 2])\n",
    "df6 = make_df('BCD', [3, 4])\n",
    "\n",
    "# Default: Outer join (union of columns)\n",
    "x = pd.concat([df5, df6])\n",
    "print(x)\n",
    "\n",
    "# Inner join (intersection of columns)\n",
    "y = pd.concat([df5, df6], join='inner')\n",
    "print(y)\n",
    "\n",
    "# Manually reindex to specific columns\n",
    "z = pd.concat([df5, df6])[df6.columns]\n",
    "print(z)\n",
    "\n",
    "# instead of append here we use concat"
   ]
  },
  {
   "cell_type": "code",
   "execution_count": 67,
   "id": "8c3b9ffe",
   "metadata": {},
   "outputs": [
    {
     "name": "stdout",
     "output_type": "stream",
     "text": [
      "    A   B\n",
      "0  A1  B1\n",
      "1  A2  B2\n",
      "2  A3  B3\n",
      "3  A4  B4\n"
     ]
    }
   ],
   "source": [
    "df1 = pd.DataFrame({'A': ['A1', 'A2'], 'B': ['B1', 'B2']})\n",
    "df2 = pd.DataFrame({'A': ['A3', 'A4'], 'B': ['B3', 'B4']})\n",
    "\n",
    "print(pd.concat([df1,df2],ignore_index=True))"
   ]
  },
  {
   "cell_type": "markdown",
   "id": "709e0526",
   "metadata": {},
   "source": [
    "##  Combining Datasets: Merge and Join\n"
   ]
  },
  {
   "cell_type": "markdown",
   "id": "a5638efa",
   "metadata": {},
   "source": [
    "### Types of Joins"
   ]
  },
  {
   "cell_type": "code",
   "execution_count": 68,
   "id": "6c9c91b4",
   "metadata": {},
   "outputs": [
    {
     "name": "stdout",
     "output_type": "stream",
     "text": [
      "  employee        group  hire_date\n",
      "0      Bob   Accounting       2008\n",
      "1     Jake  Engineering       2012\n",
      "2     Lisa  Engineering       2004\n",
      "3      Sue           HR       2014\n",
      "\n",
      "\n",
      "  employee        group  hire_date supervisor\n",
      "0      Bob   Accounting       2008      Carly\n",
      "1     Jake  Engineering       2012      Guido\n",
      "2     Lisa  Engineering       2004      Guido\n",
      "3      Sue           HR       2014      Steve\n",
      "\n",
      "\n",
      "  employee        group        skills\n",
      "0      Bob   Accounting          math\n",
      "1      Bob   Accounting  spreadsheets\n",
      "2     Jake  Engineering        coding\n",
      "3     Jake  Engineering         linux\n",
      "4     Lisa  Engineering        coding\n",
      "5     Lisa  Engineering         linux\n",
      "6      Sue           HR  spreadsheets\n",
      "7      Sue           HR  organization\n"
     ]
    }
   ],
   "source": [
    "# One-to-One Join\n",
    "df1 = pd.DataFrame({'employee': ['Bob', 'Jake', 'Lisa', 'Sue'],\n",
    "                    'group': ['Accounting', 'Engineering', 'Engineering', 'HR']})\n",
    "df2 = pd.DataFrame({'employee': ['Lisa', 'Bob', 'Jake', 'Sue'],\n",
    "                    'hire_date': [2004, 2008, 2012, 2014]})\n",
    "p = pd.merge(df1, df2)\n",
    "print(p)\n",
    "\n",
    "print(\"\\n\")\n",
    "\n",
    "# Many-to-One Join\n",
    "df3 = pd.merge(df1, df2)\n",
    "df4 = pd.DataFrame({'group': ['Accounting', 'Engineering', 'HR'],\n",
    "                    'supervisor': ['Carly', 'Guido', 'Steve']})\n",
    "q = pd.merge(df3, df4)\n",
    "print(q)\n",
    "\n",
    "print(\"\\n\")\n",
    "\n",
    "# Many-to-Many Join\n",
    "df5 = pd.DataFrame({'group': ['Accounting', 'Accounting',\n",
    "                              'Engineering', 'Engineering', 'HR', 'HR'],\n",
    "                    'skills': ['math', 'spreadsheets', 'coding', 'linux',\n",
    "                               'spreadsheets', 'organization']})\n",
    "r = pd.merge(df1, df5)\n",
    "print(r)"
   ]
  },
  {
   "cell_type": "markdown",
   "id": "e6b02883",
   "metadata": {},
   "source": [
    "### Merge with Different Column Names"
   ]
  },
  {
   "cell_type": "code",
   "execution_count": 69,
   "id": "48e3c87b",
   "metadata": {},
   "outputs": [
    {
     "name": "stdout",
     "output_type": "stream",
     "text": [
      "  employee        group  hire_date\n",
      "0      Bob   Accounting       2008\n",
      "1     Jake  Engineering       2012\n",
      "2     Lisa  Engineering       2004\n",
      "3      Sue           HR       2014\n",
      "   name  salary employee        group\n",
      "0   Bob   70000      Bob   Accounting\n",
      "1  Jake   80000     Jake  Engineering\n",
      "2  Lisa  120000     Lisa  Engineering\n",
      "3   Sue   90000      Sue           HR\n",
      "  employee        group  salary\n",
      "0      Bob   Accounting   70000\n",
      "1     Jake  Engineering   80000\n",
      "2     Lisa  Engineering  120000\n",
      "3      Sue           HR   90000\n",
      "                group  hire_date\n",
      "employee                        \n",
      "Bob        Accounting       2008\n",
      "Jake      Engineering       2012\n",
      "Lisa      Engineering       2004\n",
      "Sue                HR       2014\n",
      "                group  hire_date\n",
      "employee                        \n",
      "Bob        Accounting       2008\n",
      "Jake      Engineering       2012\n",
      "Lisa      Engineering       2004\n",
      "Sue                HR       2014\n"
     ]
    }
   ],
   "source": [
    "# Merge parameters\n",
    "#   📌 on='column_name' :- Specify common key column.\n",
    "print(pd.merge(df1, df2, on='employee'))\n",
    "\n",
    "#   📌 left_on='col1', right_on='col2' :- Used when key column names differ(name in first & employee in second)\n",
    "#    in the two DataFrames. we can also drop one by .drop('name', axis=1)\n",
    "df3 = pd.DataFrame({'name': ['Bob', 'Jake', 'Lisa', 'Sue'],\n",
    " 'salary': [70000, 80000, 120000, 90000]})\n",
    "print(pd.merge(df3, df1, left_on=\"name\", right_on=\"employee\"))\n",
    "print(pd.merge(df1, df3, left_on=\"employee\", right_on=\"name\").drop('name', axis=1))\n",
    "\n",
    "#   📌 left_index=True, right_index=True :- Merge using DataFrame indexes.\n",
    "df1a = df1.set_index('employee')\n",
    "df2a = df2.set_index('employee')\n",
    "print(pd.merge(df1a, df2a, left_index=True, right_index=True))\n",
    "\n",
    "#   📌 .join() method :- performs a merge that defaults to joining on indices \n",
    "print(df1a.join(df2a))\n",
    "\n"
   ]
  },
  {
   "cell_type": "markdown",
   "id": "cea804e2",
   "metadata": {},
   "source": [
    "### Join Types via how parameter"
   ]
  },
  {
   "cell_type": "code",
   "execution_count": 70,
   "id": "227bf8f7",
   "metadata": {},
   "outputs": [
    {
     "name": "stdout",
     "output_type": "stream",
     "text": [
      "   name   food drink\n",
      "0  Mary  bread  wine\n",
      "     name   food drink\n",
      "0  Joseph    NaN  beer\n",
      "1    Mary  bread  wine\n",
      "2    Paul  beans   NaN\n",
      "3   Peter   fish   NaN\n",
      "    name   food drink\n",
      "0  Peter   fish   NaN\n",
      "1   Paul  beans   NaN\n",
      "2   Mary  bread  wine\n",
      "     name   food drink\n",
      "0    Mary  bread  wine\n",
      "1  Joseph    NaN  beer\n"
     ]
    }
   ],
   "source": [
    "\n",
    "df6 = pd.DataFrame({'name': ['Peter', 'Paul', 'Mary'],\n",
    "                    'food': ['fish', 'beans', 'bread']})\n",
    "df7 = pd.DataFrame({'name': ['Mary', 'Joseph'],\n",
    "                    'drink': ['wine', 'beer']})\n",
    "\n",
    "# Inner join (default) :- Only rows with matching keys in both DataFrames.\n",
    "print(pd.merge(df6, df7))\n",
    "# Outer join :- All rows from both, with NaN for missing values.\n",
    "print(pd.merge(df6, df7, how='outer'))\n",
    "# Left join :- All rows from the left DataFrame.\n",
    "print(pd.merge(df6, df7, how='left'))\n",
    "# Right join :-All rows from the right DataFrame.\n",
    "print(pd.merge(df6, df7, how='right'))"
   ]
  },
  {
   "cell_type": "markdown",
   "id": "b503af06",
   "metadata": {},
   "source": [
    "### Handling Overlapping Column Names"
   ]
  },
  {
   "cell_type": "code",
   "execution_count": 71,
   "id": "cb6fb586",
   "metadata": {},
   "outputs": [
    {
     "name": "stdout",
     "output_type": "stream",
     "text": [
      "   name  rank_L  rank_R\n",
      "0   Bob       1       3\n",
      "1  Jake       2       1\n",
      "2  Lisa       3       4\n",
      "3   Sue       4       2\n"
     ]
    }
   ],
   "source": [
    "df8 = pd.DataFrame({'name': ['Bob', 'Jake', 'Lisa', 'Sue'], 'rank': [1, 2, 3, 4]})\n",
    "df9 = pd.DataFrame({'name': ['Bob', 'Jake', 'Lisa', 'Sue'], 'rank': [3, 1, 4, 2]})\n",
    "print(pd.merge(df8, df9, on=\"name\", suffixes=[\"_L\", \"_R\"]))\n",
    "\n",
    "# Use suffixes to handle overlapping columns (rank_x, rank_y by default)."
   ]
  },
  {
   "cell_type": "markdown",
   "id": "06195b1e",
   "metadata": {},
   "source": [
    "## Aggregation and Grouping"
   ]
  },
  {
   "cell_type": "markdown",
   "id": "a2e8b972",
   "metadata": {},
   "source": [
    "### Simple Aggregation in Pandas"
   ]
  },
  {
   "cell_type": "code",
   "execution_count": 72,
   "id": "fd22f444",
   "metadata": {},
   "outputs": [
    {
     "name": "stdout",
     "output_type": "stream",
     "text": [
      "0    0.374540\n",
      "1    0.950714\n",
      "2    0.731994\n",
      "3    0.598658\n",
      "4    0.156019\n",
      "dtype: float64\n",
      "2.811925491708157\n",
      "0.5623850983416314\n",
      "0.5986584841970366\n",
      "\n",
      "\n",
      "           A          B\n",
      "0  15.599452   2.058449\n",
      "1   5.808361  96.990985\n",
      "2  86.617615  83.244264\n",
      "3  60.111501  21.233911\n",
      "4  70.807258  18.182497\n",
      "A    238.944187\n",
      "B    221.710107\n",
      "dtype: float64\n",
      "A    47.788837\n",
      "B    44.342021\n",
      "dtype: float64\n",
      "0     8.828951\n",
      "1    51.399673\n",
      "2    84.930939\n",
      "3    40.672706\n",
      "4    44.494877\n",
      "dtype: float64\n",
      "0     8.828951\n",
      "1    51.399673\n",
      "2    84.930939\n",
      "3    40.672706\n",
      "4    44.494877\n",
      "dtype: float64\n",
      "A    5.808361\n",
      "B    2.058449\n",
      "dtype: float64\n",
      "A    86.617615\n",
      "B    96.990985\n",
      "dtype: float64\n",
      "A    1246.971642\n",
      "B    1822.875957\n",
      "dtype: float64\n",
      "A    35.312486\n",
      "B    42.695151\n",
      "dtype: float64\n"
     ]
    },
    {
     "data": {
      "text/html": [
       "<div>\n",
       "<style scoped>\n",
       "    .dataframe tbody tr th:only-of-type {\n",
       "        vertical-align: middle;\n",
       "    }\n",
       "\n",
       "    .dataframe tbody tr th {\n",
       "        vertical-align: top;\n",
       "    }\n",
       "\n",
       "    .dataframe thead th {\n",
       "        text-align: right;\n",
       "    }\n",
       "</style>\n",
       "<table border=\"1\" class=\"dataframe\">\n",
       "  <thead>\n",
       "    <tr style=\"text-align: right;\">\n",
       "      <th></th>\n",
       "      <th>A</th>\n",
       "      <th>B</th>\n",
       "    </tr>\n",
       "  </thead>\n",
       "  <tbody>\n",
       "    <tr>\n",
       "      <th>count</th>\n",
       "      <td>5.000000</td>\n",
       "      <td>5.000000</td>\n",
       "    </tr>\n",
       "    <tr>\n",
       "      <th>mean</th>\n",
       "      <td>47.788837</td>\n",
       "      <td>44.342021</td>\n",
       "    </tr>\n",
       "    <tr>\n",
       "      <th>std</th>\n",
       "      <td>35.312486</td>\n",
       "      <td>42.695151</td>\n",
       "    </tr>\n",
       "    <tr>\n",
       "      <th>min</th>\n",
       "      <td>5.808361</td>\n",
       "      <td>2.058449</td>\n",
       "    </tr>\n",
       "    <tr>\n",
       "      <th>25%</th>\n",
       "      <td>15.599452</td>\n",
       "      <td>18.182497</td>\n",
       "    </tr>\n",
       "    <tr>\n",
       "      <th>50%</th>\n",
       "      <td>60.111501</td>\n",
       "      <td>21.233911</td>\n",
       "    </tr>\n",
       "    <tr>\n",
       "      <th>75%</th>\n",
       "      <td>70.807258</td>\n",
       "      <td>83.244264</td>\n",
       "    </tr>\n",
       "    <tr>\n",
       "      <th>max</th>\n",
       "      <td>86.617615</td>\n",
       "      <td>96.990985</td>\n",
       "    </tr>\n",
       "  </tbody>\n",
       "</table>\n",
       "</div>"
      ],
      "text/plain": [
       "               A          B\n",
       "count   5.000000   5.000000\n",
       "mean   47.788837  44.342021\n",
       "std    35.312486  42.695151\n",
       "min     5.808361   2.058449\n",
       "25%    15.599452  18.182497\n",
       "50%    60.111501  21.233911\n",
       "75%    70.807258  83.244264\n",
       "max    86.617615  96.990985"
      ]
     },
     "execution_count": 72,
     "metadata": {},
     "output_type": "execute_result"
    }
   ],
   "source": [
    "rng = np.random.RandomState(42)\n",
    "ser = pd.Series(rng.rand(5))\n",
    "print(ser)\n",
    "print(ser.sum())\n",
    "print(ser.mean())\n",
    "print(ser.median())\n",
    "\n",
    "print(\"\\n\")\n",
    "\n",
    "df = pd.DataFrame({'A':rng.random(5)*100,\n",
    "                   'B':rng.rand(5)*100})\n",
    "print(df)\n",
    "print(df.sum())\n",
    "print(df.mean())\n",
    "print(df.mean(axis=1))     # coloumn wise mean\n",
    "print(df.mean('columns'))     \n",
    "\n",
    "print(df.min())\n",
    "print(df.max())\n",
    "print(df.var())\n",
    "print(df.std())\n",
    "df.describe()            # Gives count, mean, std, min, 25%, 50%, 75%, max in one go.                   "
   ]
  },
  {
   "cell_type": "markdown",
   "id": "58c7f669",
   "metadata": {},
   "source": [
    "###  GroupBy: Split, Apply, Combine"
   ]
  },
  {
   "cell_type": "markdown",
   "id": "9c17b603",
   "metadata": {},
   "source": [
    "* The split step involves breaking up and grouping a DataFrame depending on the\n",
    " value of the specified key.\n",
    "+ The apply step involves computing some function, usually an aggregate, transformation, or filtering, within the individual groups.\n",
    "- The combine step merges the results of these operations into an output array."
   ]
  },
  {
   "cell_type": "code",
   "execution_count": 73,
   "id": "f0240e7a",
   "metadata": {},
   "outputs": [
    {
     "name": "stdout",
     "output_type": "stream",
     "text": [
      "<pandas.core.groupby.generic.DataFrameGroupBy object at 0x000001805961D010>\n",
      "\n",
      "\n",
      "  key  data1  data2\n",
      "0   A      0      5\n",
      "1   B      1      0\n",
      "2   C      2      3\n",
      "3   A      3      3\n",
      "4   B      4      7\n",
      "5   C      5      9\n",
      "    data1            data2           \n",
      "      min median max   min median max\n",
      "key                                  \n",
      "A       0    1.5   3     3    4.0   5\n",
      "B       1    2.5   4     0    3.5   7\n",
      "C       2    3.5   5     3    6.0   9\n",
      "     data1  data2\n",
      "key              \n",
      "A        0      5\n",
      "B        1      7\n",
      "C        2      9\n",
      "       data1     data2\n",
      "key                   \n",
      "A    2.12132  1.414214\n",
      "B    2.12132  4.949747\n",
      "C    2.12132  4.242641\n",
      "  key  data1  data2\n",
      "1   B      1      0\n",
      "2   C      2      3\n",
      "4   B      4      7\n",
      "5   C      5      9\n",
      "   data1  data2\n",
      "0     -3      2\n",
      "1     -2     -3\n",
      "2     -1      0\n",
      "3      0      0\n",
      "4      1      4\n",
      "5      2      6\n",
      "      key     data1  data2\n",
      "key                       \n",
      "A   0   A  0.000000      5\n",
      "    3   A  0.375000      3\n",
      "B   1   B  0.142857      0\n",
      "    4   B  0.571429      7\n",
      "C   2   C  0.166667      3\n",
      "    5   C  0.416667      9\n"
     ]
    },
    {
     "name": "stderr",
     "output_type": "stream",
     "text": [
      "C:\\Users\\Ayush\\AppData\\Local\\Temp\\ipykernel_14372\\1175243219.py:37: FutureWarning: DataFrameGroupBy.apply operated on the grouping columns. This behavior is deprecated, and in a future version of pandas the grouping columns will be excluded from the operation. Either pass `include_groups=False` to exclude the groupings or explicitly select the grouping columns after groupby to silence this warning.\n",
      "  b = df.groupby('key').apply(norm_by_data2)\n"
     ]
    }
   ],
   "source": [
    "df = pd.DataFrame({'key': ['A', 'B', 'C', 'A', 'B', 'C'],\n",
    " 'data': range(6)}, columns=['key', 'data'])\n",
    "a = df.groupby('key')            # groupby() doesn’t compute immediately — it returns a lazy GroupBy object\n",
    "print(a)\n",
    "df.groupby('key').sum()          # You then apply functions like sum(), mean(), or .aggregate()\n",
    "\n",
    "print(\"\\n\")\n",
    "\n",
    "rng = np.random.RandomState(0)\n",
    "df = pd.DataFrame({'key': ['A', 'B', 'C', 'A', 'B', 'C'],\n",
    " 'data1': range(6),\n",
    " 'data2': rng.randint(0, 10, 6)},\n",
    "columns = ['key', 'data1', 'data2'])\n",
    "print(df)\n",
    "#  Aggregate :- Takes a string, a function, or a list thereof, and compute all the aggregates at once\n",
    "x = df.groupby('key').aggregate(['min', \"median\", \"max\"])\n",
    "print(x)\n",
    "y = df.groupby('key').aggregate({'data1': 'min',\n",
    "                             'data2': 'max'})\n",
    "print(y)\n",
    "\n",
    "# Filter :-  A filtering operation allows you to drop data based on the group properties.\n",
    "def filter_func(x):\n",
    "    return x['data2'].std()>4\n",
    "print(df.groupby('key').std())\n",
    "print(df.groupby('key').filter(filter_func)) \n",
    "\n",
    "# Transformation :- Returns data of same shape as input; often used for normalization or centering.\n",
    "a =  df.groupby('key').transform(lambda x: x - 3)\n",
    "print(a)\n",
    "\n",
    "# Apply :- lexible method to apply custom functions to each group.\n",
    "def norm_by_data2(x):\n",
    "    x['data1'] /= x['data2'].sum()\n",
    "    return x\n",
    "\n",
    "b = df.groupby('key').apply(norm_by_data2)\n",
    "print(b)"
   ]
  },
  {
   "cell_type": "markdown",
   "id": "4064bbdf",
   "metadata": {},
   "source": [
    "## Pivot Table "
   ]
  },
  {
   "cell_type": "markdown",
   "id": "1ab8ca32",
   "metadata": {},
   "source": [
    "* A pivot table summarizes data in a 2D table format using one or more categorical variables (index/columns) to group data and an aggregation function (default: mean) to reduce data."
   ]
  },
  {
   "cell_type": "code",
   "execution_count": 74,
   "id": "f91ee698",
   "metadata": {},
   "outputs": [
    {
     "name": "stdout",
     "output_type": "stream",
     "text": [
      "   student  subject  score\n",
      "0    Alice     Math     90\n",
      "1      Bob     Math     85\n",
      "2    Alice  Science     95\n",
      "3      Bob  Science     80\n",
      "4  Charlie     Math     70\n",
      "5  Charlie  Science     75\n",
      "subject  Math  Science\n",
      "student               \n",
      "Alice    90.0     95.0\n",
      "Bob      85.0     80.0\n",
      "Charlie  70.0     75.0\n",
      "subject  Math  Science\n",
      "student               \n",
      "Alice      90       95\n",
      "Bob        85       80\n",
      "Charlie    70       75\n",
      "subject       Math    Science   All\n",
      "student                            \n",
      "Alice    90.000000  95.000000  92.5\n",
      "Bob      85.000000  80.000000  82.5\n",
      "Charlie  70.000000  75.000000  72.5\n",
      "All      81.666667  83.333333  82.5\n"
     ]
    }
   ],
   "source": [
    "data = {\n",
    "    'student': ['Alice', 'Bob', 'Alice', 'Bob', 'Charlie', 'Charlie'],\n",
    "    'subject': ['Math', 'Math', 'Science', 'Science', 'Math', 'Science'],\n",
    "    'score': [90, 85, 95, 80, 70, 75]\n",
    "        }\n",
    "df = pd.DataFrame(data)\n",
    "print(df)\n",
    "# Simple pivot table\n",
    "x = df.pivot_table(values='score',index='student',columns='subject')\n",
    "print(x)\n",
    "\n",
    "# Using aggfunc='sum' to change aggregation\n",
    "y = df.pivot_table(values='score', index='student', columns='subject', aggfunc='sum')\n",
    "print(y)                # useful if there were duplicate rows\n",
    "\n",
    "#  Add margins=True to see totals\n",
    "z = df.pivot_table(values='score', index='student', columns='subject', margins=True)\n",
    "print(z)                # \"All\" row/column shows the average across rows and columns."
   ]
  },
  {
   "cell_type": "code",
   "execution_count": 75,
   "id": "e07dd386",
   "metadata": {},
   "outputs": [
    {
     "name": "stdout",
     "output_type": "stream",
     "text": [
      "subject       Math  Science\n",
      "student year               \n",
      "Alice   2023  88.0     92.0\n",
      "Bob     2023  81.0     79.0\n",
      "Charlie 2024  73.0     70.0\n",
      "subject  Math  Science\n",
      "student               \n",
      "Alice       1        1\n",
      "Bob         1        1\n",
      "Charlie     1        1\n",
      "subject  Math  Science\n",
      "student               \n",
      "Alice    90.0     95.0\n",
      "Bob      85.0     80.0\n",
      "Charlie  70.0   9999.0\n",
      "         mean   max\n",
      "        score score\n",
      "student            \n",
      "Alice    92.5    95\n",
      "Bob      82.5    85\n",
      "Charlie  72.5    75\n"
     ]
    }
   ],
   "source": [
    "# Multi-level Index Example\n",
    "df2 = pd.DataFrame({\n",
    "    'student': ['Alice', 'Alice', 'Bob', 'Bob', 'Charlie', 'Charlie'],\n",
    "    'subject': ['Math', 'Science', 'Math', 'Science', 'Math', 'Science'],\n",
    "    'score': [88, 92, 81, 79, 73, 70],\n",
    "    'year': [2023, 2023, 2023, 2023, 2024, 2024]\n",
    "})\n",
    "\n",
    "# Average score per student per year\n",
    "a = df2.pivot_table(values='score', index=['student', 'year'], columns='subject')\n",
    "print(a)\n",
    "\n",
    "# Count instead of mean\n",
    "b = df.pivot_table(index='student', columns='subject', values='score', aggfunc='count')\n",
    "print(b)            # if one student has two math score it will count 2\n",
    "\n",
    "# Handling missing values\n",
    "df_missing = df.copy()\n",
    "df_missing.loc[5, 'score'] = None\n",
    "c = df_missing.pivot_table(values='score', index='student', columns='subject', fill_value=9999)\n",
    "print(c)\n",
    "\n",
    "# Use multiple aggregation funtion \n",
    "d = df.pivot_table(values='score', index='student', aggfunc=['mean', 'max'])\n",
    "print(d)\n"
   ]
  },
  {
   "cell_type": "markdown",
   "id": "e6170c5d",
   "metadata": {},
   "source": [
    "##  Vectorized String Operations"
   ]
  },
  {
   "cell_type": "code",
   "execution_count": 76,
   "id": "43537ee8",
   "metadata": {},
   "outputs": [
    {
     "name": "stdout",
     "output_type": "stream",
     "text": [
      "0    Peter\n",
      "1     None\n",
      "2     Paul\n",
      "dtype: object\n",
      "0    graham chapman\n",
      "1       john cleese\n",
      "dtype: object\n"
     ]
    }
   ],
   "source": [
    "# Python native method (fails on None):\n",
    "# [s.capitalize() for s in ['peter', None, 'Paul']]     # Error\n",
    "\n",
    "# Pandas handles with .str\n",
    "print(pd.Series(['peter', None, 'Paul']).str.capitalize())\n",
    "\n",
    "name = pd.Series(['Graham Chapman', 'John Cleese'])\n",
    "print(name.str.lower())  # Applies .lower() to each string"
   ]
  },
  {
   "cell_type": "code",
   "execution_count": 77,
   "id": "869cd9a6",
   "metadata": {},
   "outputs": [
    {
     "name": "stdout",
     "output_type": "stream",
     "text": [
      "0    14\n",
      "1    11\n",
      "2    13\n",
      "3     9\n",
      "4    11\n",
      "5    13\n",
      "dtype: int64\n",
      "0    False\n",
      "1    False\n",
      "2     True\n",
      "3    False\n",
      "4     True\n",
      "5    False\n",
      "dtype: bool\n",
      "0    [Graham, Chapman]\n",
      "1       [John, Cleese]\n",
      "2     [Terry, Gilliam]\n",
      "3         [Eric, Idle]\n",
      "4       [Terry, Jones]\n",
      "5     [Michael, Palin]\n",
      "dtype: object\n",
      "0    Graham Chapman\n",
      "1       John Cleese\n",
      "2     Terry Gilliam\n",
      "3         Eric Idle\n",
      "4       Terry Jones\n",
      "5     Michael Palin\n",
      "dtype: object\n",
      "   0\n",
      "0  G\n",
      "1  J\n",
      "2  T\n",
      "3  E\n",
      "4  T\n",
      "5  M\n",
      "0    [Graham Chapman]\n",
      "1                  []\n",
      "2     [Terry Gilliam]\n",
      "3                  []\n",
      "4       [Terry Jones]\n",
      "5     [Michael Palin]\n",
      "dtype: object\n",
      "0    False\n",
      "1    False\n",
      "2     True\n",
      "3    False\n",
      "4     True\n",
      "5    False\n",
      "dtype: bool\n"
     ]
    }
   ],
   "source": [
    "monte = pd.Series([\n",
    "    'Graham Chapman', 'John Cleese', 'Terry Gilliam',\n",
    "    'Eric Idle', 'Terry Jones', 'Michael Palin'\n",
    "])\n",
    "# Types of string methods\n",
    "print(monte.str.len())          # String lengths\n",
    "print(monte.str.startswith('T')) # Boolean mask\n",
    "print(monte.str.split())       # Lists of words\n",
    "print(monte.str.strip())\n",
    "\n",
    "# Regex-based Methods\n",
    "print(monte.str.extract('([A-Za-z+])'))         # .extract() – Extract pattern\n",
    "print(monte.str.findall(r'^[^AEIOU].*[^aeiou]$'))   # .findall() – Find all matching patterns\n",
    "print(monte.str.contains('[Tt]erry'))             # .contains() – Check presence"
   ]
  },
  {
   "cell_type": "code",
   "execution_count": 78,
   "id": "877bb376",
   "metadata": {},
   "outputs": [
    {
     "name": "stdout",
     "output_type": "stream",
     "text": [
      "0    Gra\n",
      "1    Joh\n",
      "2    Ter\n",
      "3    Eri\n",
      "4    Ter\n",
      "5    Mic\n",
      "dtype: object\n",
      "0     Graham\n",
      "1       John\n",
      "2      Terry\n",
      "3       Eric\n",
      "4      Terry\n",
      "5    Michael\n",
      "dtype: object\n",
      "Graham Chapman, John Cleese, Terry Gilliam, Eric Idle, Terry Jones, Michael Palin\n",
      "0    Graham ChapmanGraham Chapman\n",
      "1          John CleeseJohn Cleese\n",
      "2      Terry GilliamTerry Gilliam\n",
      "3              Eric IdleEric Idle\n",
      "4          Terry JonesTerry Jones\n",
      "5      Michael PalinMichael Palin\n",
      "dtype: object\n",
      "0    Chapman\n",
      "1     Cleese\n",
      "2    Gilliam\n",
      "3       Idle\n",
      "4      Jones\n",
      "5      Palin\n",
      "dtype: object\n"
     ]
    },
    {
     "data": {
      "text/html": [
       "<div>\n",
       "<style scoped>\n",
       "    .dataframe tbody tr th:only-of-type {\n",
       "        vertical-align: middle;\n",
       "    }\n",
       "\n",
       "    .dataframe tbody tr th {\n",
       "        vertical-align: top;\n",
       "    }\n",
       "\n",
       "    .dataframe thead th {\n",
       "        text-align: right;\n",
       "    }\n",
       "</style>\n",
       "<table border=\"1\" class=\"dataframe\">\n",
       "  <thead>\n",
       "    <tr style=\"text-align: right;\">\n",
       "      <th></th>\n",
       "      <th>A</th>\n",
       "      <th>B</th>\n",
       "      <th>C</th>\n",
       "      <th>D</th>\n",
       "    </tr>\n",
       "  </thead>\n",
       "  <tbody>\n",
       "    <tr>\n",
       "      <th>0</th>\n",
       "      <td>0</td>\n",
       "      <td>1</td>\n",
       "      <td>1</td>\n",
       "      <td>1</td>\n",
       "    </tr>\n",
       "    <tr>\n",
       "      <th>1</th>\n",
       "      <td>0</td>\n",
       "      <td>1</td>\n",
       "      <td>0</td>\n",
       "      <td>1</td>\n",
       "    </tr>\n",
       "    <tr>\n",
       "      <th>2</th>\n",
       "      <td>1</td>\n",
       "      <td>0</td>\n",
       "      <td>1</td>\n",
       "      <td>0</td>\n",
       "    </tr>\n",
       "    <tr>\n",
       "      <th>3</th>\n",
       "      <td>0</td>\n",
       "      <td>1</td>\n",
       "      <td>0</td>\n",
       "      <td>1</td>\n",
       "    </tr>\n",
       "    <tr>\n",
       "      <th>4</th>\n",
       "      <td>0</td>\n",
       "      <td>1</td>\n",
       "      <td>1</td>\n",
       "      <td>0</td>\n",
       "    </tr>\n",
       "    <tr>\n",
       "      <th>5</th>\n",
       "      <td>0</td>\n",
       "      <td>1</td>\n",
       "      <td>1</td>\n",
       "      <td>1</td>\n",
       "    </tr>\n",
       "  </tbody>\n",
       "</table>\n",
       "</div>"
      ],
      "text/plain": [
       "   A  B  C  D\n",
       "0  0  1  1  1\n",
       "1  0  1  0  1\n",
       "2  1  0  1  0\n",
       "3  0  1  0  1\n",
       "4  0  1  1  0\n",
       "5  0  1  1  1"
      ]
     },
     "execution_count": 78,
     "metadata": {},
     "output_type": "execute_result"
    }
   ],
   "source": [
    "# Miscellaneous .str method\n",
    "print(monte.str.slice(0, 3))            #slice() – Extract substring\n",
    "print(monte.str.split().str.get(0))     #get() – Get item at index\n",
    "print(monte.str.cat(sep=', '))          #cat() – Join strings\n",
    "print(monte.str.repeat(2))              #repeat() – Repeat strings\n",
    "print(monte.str.split().str.get(-1))    #give last name\n",
    "\n",
    "full_monte = pd.DataFrame({             #get_dummies() – Dummy encoding\n",
    "    'name': monte,\n",
    "    'info': ['B|C|D', 'B|D', 'A|C', 'B|D', 'B|C', 'B|C|D']\n",
    "})\n",
    "full_monte['info'].str.get_dummies('|')"
   ]
  },
  {
   "cell_type": "markdown",
   "id": "727ed6a6",
   "metadata": {},
   "source": [
    "## Working with Time Series"
   ]
  },
  {
   "cell_type": "markdown",
   "id": "59655a1d",
   "metadata": {},
   "source": [
    "* Time stamps reference particular moments in time (e.g., July 4th, 2015, at 7:00a.m.)\n",
    "\n",
    "* Time intervals reference a length of time between a particular beginning and end point\n",
    "* Periods usually reference a special case of time intervals in which each interval is of uniform length and does  not overlap\n",
    "\n",
    "* Time deltas or durations reference an exact length of time (e.g., a duration of 22.56 seconds).\n",
    "\n",
    "    YYYY-MM-DD"
   ]
  },
  {
   "cell_type": "code",
   "execution_count": 79,
   "id": "bb9fd08c",
   "metadata": {},
   "outputs": [
    {
     "name": "stdout",
     "output_type": "stream",
     "text": [
      "2006-09-29 00:00:00\n",
      "Friday\n"
     ]
    },
    {
     "data": {
      "text/plain": [
       "DatetimeIndex(['2006-09-29', '2006-09-30', '2006-10-01', '2006-10-02',\n",
       "               '2006-10-03', '2006-10-04', '2006-10-05', '2006-10-06',\n",
       "               '2006-10-07', '2006-10-08', '2006-10-09', '2006-10-10'],\n",
       "              dtype='datetime64[ns]', freq=None)"
      ]
     },
     "execution_count": 79,
     "metadata": {},
     "output_type": "execute_result"
    }
   ],
   "source": [
    "date = pd.to_datetime(\"29th of September,2006\")\n",
    "print(date)\n",
    "print(date.strftime('%A'))\n",
    "\n",
    "date + pd.to_timedelta(np.arange(12),'D')"
   ]
  },
  {
   "cell_type": "code",
   "execution_count": 80,
   "id": "857b1898",
   "metadata": {},
   "outputs": [
    {
     "name": "stdout",
     "output_type": "stream",
     "text": [
      "DatetimeIndex(['1970-01-01 00:00:00.000002015',\n",
      "               '1970-01-01 00:00:00.000000007',\n",
      "               '1970-01-01 00:00:00.000000003',\n",
      "                         '2015-07-04 00:00:00',\n",
      "                         '2015-07-06 00:00:00',\n",
      "                         '2015-07-07 00:00:00',\n",
      "                         '2015-07-08 00:00:00'],\n",
      "              dtype='datetime64[ns]', freq=None)\n",
      "2014-07-04    0\n",
      "2014-08-04    1\n",
      "2015-07-04    2\n",
      "2015-08-04    3\n",
      "dtype: int64\n",
      "2014-07-04    0\n",
      "2014-08-04    1\n",
      "2015-07-04    2\n",
      "dtype: int64\n",
      "2015-07-04    2\n",
      "2015-08-04    3\n",
      "dtype: int64\n",
      "PeriodIndex(['1970-01-01', '1970-01-01', '1970-01-01', '2015-07-04',\n",
      "             '2015-07-06', '2015-07-07', '2015-07-08'],\n",
      "            dtype='period[D]')\n",
      "TimedeltaIndex([    '0 days 00:00:00.000002008',\n",
      "                              '0 days 00:00:00',\n",
      "                  '-1 days +23:59:59.999999996',\n",
      "                '16619 days 23:59:59.999999993',\n",
      "                '16621 days 23:59:59.999999993',\n",
      "                '16622 days 23:59:59.999999993',\n",
      "                '16623 days 23:59:59.999999993'],\n",
      "               dtype='timedelta64[ns]', freq=None)\n"
     ]
    }
   ],
   "source": [
    "dates = pd.to_datetime([2015, 7, 3, '4th of July, 2015', # type: ignore\n",
    " '2015-Jul-6', '07-07-2015', '20150708'])\n",
    "print(dates)\n",
    "\n",
    "index = pd.DatetimeIndex(['2014-07-04', '2014-08-04', '2015-07-04', '2015-08-04'])\n",
    "data = pd.Series([0, 1, 2, 3], index=index)\n",
    "print(data)                                     # Pandas Time Series: Indexing by Time\n",
    "print(data['2014-07-04':'2015-07-04'])\n",
    "print(data['2015'])\n",
    "\n",
    "dates = pd.to_datetime([2015, 7, 3, '4th of July, 2015', # type: ignore\n",
    " '2015-Jul-6', '07-07-2015', '20150708'])\n",
    "print(dates.to_period('D'))\n",
    "x = dates - dates[1]\n",
    "print(x)\n",
    "                  "
   ]
  },
  {
   "cell_type": "code",
   "execution_count": 81,
   "id": "6202a215",
   "metadata": {},
   "outputs": [
    {
     "name": "stdout",
     "output_type": "stream",
     "text": [
      "DatetimeIndex(['2006-09-29', '2006-09-30', '2006-10-01', '2006-10-02',\n",
      "               '2006-10-03', '2006-10-04', '2006-10-05', '2006-10-06',\n",
      "               '2006-10-07', '2006-10-08', '2006-10-09', '2006-10-10'],\n",
      "              dtype='datetime64[ns]', freq='D')\n",
      "DatetimeIndex(['2006-09-29', '2006-09-30', '2006-10-01', '2006-10-02',\n",
      "               '2006-10-03', '2006-10-04', '2006-10-05', '2006-10-06',\n",
      "               '2006-10-07', '2006-10-08', '2006-10-09'],\n",
      "              dtype='datetime64[ns]', freq='D')\n",
      "DatetimeIndex(['2006-09-29 00:00:00', '2006-09-29 01:00:00',\n",
      "               '2006-09-29 02:00:00', '2006-09-29 03:00:00'],\n",
      "              dtype='datetime64[ns]', freq='h')\n",
      "PeriodIndex(['2015-07', '2015-08', '2015-09', '2015-10', '2015-11', '2015-12',\n",
      "             '2016-01', '2016-02'],\n",
      "            dtype='period[M]')\n",
      "TimedeltaIndex(['0 days 00:00:00', '0 days 01:00:00', '0 days 02:00:00',\n",
      "                '0 days 03:00:00', '0 days 04:00:00', '0 days 05:00:00',\n",
      "                '0 days 06:00:00', '0 days 07:00:00', '0 days 08:00:00',\n",
      "                '0 days 09:00:00'],\n",
      "               dtype='timedelta64[ns]', freq='h')\n"
     ]
    }
   ],
   "source": [
    "print(pd.date_range('2006-09-29','2006-10-10'))\n",
    "print(pd.date_range('2006-09-29',periods=11))\n",
    "print(pd.date_range('2006-09-29',periods=4,freq='h'))\n",
    "print(pd.period_range('2015-07', periods=8, freq='M'))\n",
    "print(pd.timedelta_range(0, periods=10, freq='h'))\n"
   ]
  },
  {
   "cell_type": "markdown",
   "id": "c5f864fb",
   "metadata": {},
   "source": [
    "### Frequency and Offsets\n",
    "- D = day  \n",
    "- W = week        \n",
    "- M = month end\n",
    "- Q = quarter end        \n",
    "- A = year end       \n",
    "- B = business day(mon-fri)\n",
    "- h = hours        \n",
    "- min = minutes        \n",
    "- s = second\n",
    "- BH = business hour(9am-5pm)\n"
   ]
  },
  {
   "cell_type": "markdown",
   "id": "b13eba47",
   "metadata": {},
   "source": [
    "- Adding an S suffix to any of these marks it instead at the beginning\n",
    "- MS = Month start\n",
    "- AS = Year start\n",
    "- Additionally, you can change the month used to mark any quarterly or annual code by adding a three-letter month code as a suffix:\n",
    "- Q-JAN, BQ-FEB, QS-MAR, BQS-APR, etc.\n",
    "- A-JAN, BA-FEB, AS-MAR, BAS-APR, etc.\n",
    "- W-SUN, W-MON, W-TUE, W-WED, etc."
   ]
  },
  {
   "cell_type": "code",
   "execution_count": 82,
   "id": "dbc29fa3",
   "metadata": {},
   "outputs": [
    {
     "name": "stdout",
     "output_type": "stream",
     "text": [
      "DatetimeIndex(['2023-03-31', '2023-06-30', '2023-09-30', '2023-12-31'], dtype='datetime64[ns]', freq='QE-MAR')\n",
      "DatetimeIndex(['2023-01-02', '2023-01-09', '2023-01-16', '2023-01-23'], dtype='datetime64[ns]', freq='W-MON')\n",
      "TimedeltaIndex(['0 days 00:00:00', '0 days 02:30:15', '0 days 05:00:30',\n",
      "                '0 days 07:30:45', '0 days 10:01:00', '0 days 12:31:15',\n",
      "                '0 days 15:01:30', '0 days 17:31:45', '0 days 20:02:00'],\n",
      "               dtype='timedelta64[ns]', freq='9015s')\n"
     ]
    }
   ],
   "source": [
    "y = pd.date_range('2023-01-01', periods=4, freq='QE-MAR')\n",
    "print(y)\n",
    "z = pd.date_range('2023-01-01', periods=4, freq='W-MON')\n",
    "print(z)\n",
    "x = pd.timedelta_range(0, periods=9, freq=\"2h30min15s\")\n",
    "print(x)\n"
   ]
  },
  {
   "cell_type": "markdown",
   "id": "44837cca",
   "metadata": {},
   "source": [
    "##  High-Performance Pandas: eval() and query()"
   ]
  },
  {
   "cell_type": "markdown",
   "id": "1365600e",
   "metadata": {},
   "source": [
    "### pd.eval()\n",
    "* Efficient Evaluation Across Multiple DataFrames\n",
    "* It is faster and use less memory"
   ]
  },
  {
   "cell_type": "code",
   "execution_count": 95,
   "id": "6c751758",
   "metadata": {},
   "outputs": [
    {
     "name": "stdout",
     "output_type": "stream",
     "text": [
      "38.6 ns ± 4.41 ns per loop (mean ± std. dev. of 7 runs, 10,000,000 loops each)\n",
      "171 μs ± 16.4 μs per loop (mean ± std. dev. of 7 runs, 10,000 loops each)\n"
     ]
    }
   ],
   "source": [
    "rng = np.random.RandomState(42)\n",
    "df1, df2, df3, df4 = (pd.DataFrame(rng.rand(10000, 100))for i in range(4))\n",
    "%timeit df1, df2, df3, df4\n",
    "%timeit pd.eval('df1, df2, df3, df4')"
   ]
  },
  {
   "cell_type": "markdown",
   "id": "cb86e677",
   "metadata": {},
   "source": [
    "### df.eval() \n",
    "- Column-wise Efficient Expression\n",
    "- Allows expressions like A + B to be computed using column names as variables.\n",
    "- Clean, readable syntax (no need for df['A'], etc.)"
   ]
  },
  {
   "cell_type": "code",
   "execution_count": 199,
   "id": "319fe003",
   "metadata": {},
   "outputs": [
    {
     "name": "stdout",
     "output_type": "stream",
     "text": [
      "0     -8.534038\n",
      "1     -9.054518\n",
      "2     -8.942123\n",
      "3     -8.909376\n",
      "4     -8.622765\n",
      "         ...   \n",
      "995   -9.091049\n",
      "996   -8.475850\n",
      "997   -9.150820\n",
      "998   -8.716246\n",
      "999   -8.954645\n",
      "Length: 1000, dtype: float64\n",
      "0     -8.534038\n",
      "1     -9.054518\n",
      "2     -8.942123\n",
      "3     -8.909376\n",
      "4     -8.622765\n",
      "         ...   \n",
      "995   -9.091049\n",
      "996   -8.475850\n",
      "997   -9.150820\n",
      "998   -8.716246\n",
      "999   -8.954645\n",
      "Length: 1000, dtype: float64\n",
      "True\n",
      "0      1.276065\n",
      "1      1.594856\n",
      "2      0.687041\n",
      "3      0.839949\n",
      "4      0.737165\n",
      "         ...   \n",
      "995    1.286755\n",
      "996    1.495889\n",
      "997    1.435565\n",
      "998    1.276432\n",
      "999    0.807625\n",
      "Length: 1000, dtype: float64\n"
     ]
    }
   ],
   "source": [
    "df = pd.DataFrame(rng.rand(1000, 4), columns=['A', 'B', 'C', 'D'])\n",
    "# without eval\n",
    "result1 = (df['A']+df['B']+100)/(df['C']-12)\n",
    "print(result1)\n",
    "# with eval \n",
    "result2 = df.eval('(A+B+100)/(C-12)')\n",
    "print(result2)\n",
    "# Confirm they are the same\n",
    "x = np.allclose(result1, result2)\n",
    "print(x)\n",
    "\n",
    "# use @ for local variable\n",
    "column_mean = df.mean(1)\n",
    "y = df.eval('A + @column_mean')\n",
    "print(y)"
   ]
  },
  {
   "cell_type": "markdown",
   "id": "d3589a4a",
   "metadata": {},
   "source": [
    "### df.query()\n",
    "- Efficient Row Filtering\n",
    "- Filters rows using a SQL-like string expression\n",
    "- Cleaner than boolean indexing"
   ]
  },
  {
   "cell_type": "code",
   "execution_count": 215,
   "id": "d5f8efa3",
   "metadata": {},
   "outputs": [
    {
     "name": "stdout",
     "output_type": "stream",
     "text": [
      "            A         B         C         D\n",
      "3    0.373542  0.244159  0.706538  0.541386\n",
      "8    0.296669  0.040845  0.954541  0.180569\n",
      "12   0.258522  0.279411  0.536658  0.943090\n",
      "16   0.108400  0.128349  0.870789  0.883055\n",
      "24   0.190354  0.109986  0.782239  0.021324\n",
      "..        ...       ...       ...       ...\n",
      "974  0.370844  0.303948  0.441860  0.279703\n",
      "975  0.270069  0.236545  0.017831  0.953593\n",
      "983  0.061200  0.452993  0.234526  0.454970\n",
      "984  0.010198  0.344584  0.022300  0.438133\n",
      "999  0.336274  0.174289  0.775594  0.599245\n",
      "\n",
      "[226 rows x 4 columns]\n",
      "            A         B         C         D\n",
      "3    0.373542  0.244159  0.706538  0.541386\n",
      "4    0.464618  0.208414  0.324739  0.092413\n",
      "5    0.490764  0.304242  0.561553  0.341547\n",
      "6    0.457464  0.386757  0.185577  0.343482\n",
      "8    0.296669  0.040845  0.954541  0.180569\n",
      "..        ...       ...       ...       ...\n",
      "974  0.370844  0.303948  0.441860  0.279703\n",
      "975  0.270069  0.236545  0.017831  0.953593\n",
      "983  0.061200  0.452993  0.234526  0.454970\n",
      "984  0.010198  0.344584  0.022300  0.438133\n",
      "999  0.336274  0.174289  0.775594  0.599245\n",
      "\n",
      "[289 rows x 4 columns]\n",
      "            A         B         C         D\n",
      "3    0.373542  0.244159  0.706538  0.541386\n",
      "4    0.464618  0.208414  0.324739  0.092413\n",
      "5    0.490764  0.304242  0.561553  0.341547\n",
      "6    0.457464  0.386757  0.185577  0.343482\n",
      "8    0.296669  0.040845  0.954541  0.180569\n",
      "..        ...       ...       ...       ...\n",
      "974  0.370844  0.303948  0.441860  0.279703\n",
      "975  0.270069  0.236545  0.017831  0.953593\n",
      "983  0.061200  0.452993  0.234526  0.454970\n",
      "984  0.010198  0.344584  0.022300  0.438133\n",
      "999  0.336274  0.174289  0.775594  0.599245\n",
      "\n",
      "[292 rows x 4 columns]\n"
     ]
    }
   ],
   "source": [
    "# without query\n",
    "x= df[(df['A']< 0.4)&(df['B']<0.5)]\n",
    "print(x)\n",
    "# with query\n",
    "y= df.query('A<0.5 and B<0.5')\n",
    "print(y)\n",
    "\n",
    "# with @ for local variable\n",
    "mean_C = df['C'].mean()\n",
    "z= df.query('A < @mean_C and B < @mean_C')\n",
    "print(z)"
   ]
  },
  {
   "cell_type": "code",
   "execution_count": 219,
   "id": "e5a2567a",
   "metadata": {},
   "outputs": [
    {
     "data": {
      "text/plain": [
       "32000"
      ]
     },
     "execution_count": 219,
     "metadata": {},
     "output_type": "execute_result"
    }
   ],
   "source": [
    "df.values.nbytes"
   ]
  }
 ],
 "metadata": {
  "kernelspec": {
   "display_name": "venv",
   "language": "python",
   "name": "python3"
  },
  "language_info": {
   "codemirror_mode": {
    "name": "ipython",
    "version": 3
   },
   "file_extension": ".py",
   "mimetype": "text/x-python",
   "name": "python",
   "nbconvert_exporter": "python",
   "pygments_lexer": "ipython3",
   "version": "3.13.5"
  }
 },
 "nbformat": 4,
 "nbformat_minor": 5
}
